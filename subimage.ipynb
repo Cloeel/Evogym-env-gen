{
 "cells": [
  {
   "cell_type": "code",
   "execution_count": 1,
   "id": "5815226b-4368-4ddc-8c64-dc8b20a04e0d",
   "metadata": {},
   "outputs": [],
   "source": [
    "from PIL import Image"
   ]
  },
  {
   "cell_type": "code",
   "execution_count": 4,
   "id": "2877a7f0-6e33-4b10-9bf2-ba278be07e89",
   "metadata": {},
   "outputs": [],
   "source": [
    "path_to_png = \"./generated/\"\n",
    "image = Image.open(path_to_png + \"test.png\")\n",
    "\n",
    "width, height = image.size\n",
    "\n",
    "sub_images = []\n",
    "sub_image_width = width //8\n",
    "sub_image_height = height //8"
   ]
  },
  {
   "cell_type": "code",
   "execution_count": 5,
   "id": "514b6bd4-0381-4549-9b4b-0a2ccec7bb00",
   "metadata": {},
   "outputs": [],
   "source": [
    "for i in range(8):\n",
    "    for j in range(8):\n",
    "        left = i * sub_image_width\n",
    "        upper = i * sub_image_height\n",
    "        right = (i+1) * sub_image_width\n",
    "        lower = (i+1) * sub_image_height\n",
    "        sub_image = image.crop((left, upper, right, lower))\n",
    "        sub_images.append(sub_image)"
   ]
  },
  {
   "cell_type": "code",
   "execution_count": 8,
   "id": "d733c16d-74a6-418b-8f37-57bb535bd086",
   "metadata": {},
   "outputs": [],
   "source": [
    "for i, sub_image in enumerate(sub_images):\n",
    "    sub_image.save(f\"./images/sub_image_{i}.png\")"
   ]
  },
  {
   "cell_type": "code",
   "execution_count": null,
   "id": "01141e6e-6fc2-4fc5-ae0c-9edc14b547ae",
   "metadata": {},
   "outputs": [],
   "source": []
  }
 ],
 "metadata": {
  "kernelspec": {
   "display_name": "Python 3 (ipykernel)",
   "language": "python",
   "name": "python3"
  },
  "language_info": {
   "codemirror_mode": {
    "name": "ipython",
    "version": 3
   },
   "file_extension": ".py",
   "mimetype": "text/x-python",
   "name": "python",
   "nbconvert_exporter": "python",
   "pygments_lexer": "ipython3",
   "version": "3.8.5"
  }
 },
 "nbformat": 4,
 "nbformat_minor": 5
}
