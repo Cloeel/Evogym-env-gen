{
 "cells": [
  {
   "cell_type": "code",
   "execution_count": 21,
   "id": "82910596",
   "metadata": {},
   "outputs": [],
   "source": [
    "import torch\n",
    "import torch.nn as nn\n",
    "import torch.optim as optim\n",
    "from torch.utils.data import Dataset, DataLoader\n",
    "import json"
   ]
  },
  {
   "cell_type": "code",
   "execution_count": 30,
   "id": "08e202ce",
   "metadata": {},
   "outputs": [],
   "source": [
    "# データセットの定義\n",
    "class TextDataset(Dataset):\n",
    "    def __init__(self, data, word_to_idx):\n",
    "        self.data = data\n",
    "        self.word_to_idx = word_to_idx\n",
    "\n",
    "    def __len__(self):\n",
    "        return len(self.data)\n",
    "\n",
    "    def __getitem__(self, idx):\n",
    "        text = self.data[idx]\n",
    "        text_indices = [self.word_to_idx[word] for word in text]\n",
    "        return torch.tensor(text_indices)"
   ]
  },
  {
   "cell_type": "code",
   "execution_count": 31,
   "id": "593ceb80",
   "metadata": {},
   "outputs": [],
   "source": [
    "# LSTMモデルの定義\n",
    "class LSTMModel(nn.Module):\n",
    "    def __init__(self, input_size, hidden_size, output_size):\n",
    "        super(LSTMModel, self).__init__()\n",
    "        self.hidden_size = hidden_size\n",
    "        self.embedding = nn.Embedding(input_size, hidden_size)\n",
    "        self.lstm = nn.LSTM(hidden_size, hidden_size)\n",
    "        self.fc = nn.Linear(hidden_size, output_size)\n",
    "\n",
    "    def forward(self, input, hidden):\n",
    "        embedded = self.embedding(input).view(1, 1, -1)\n",
    "        output, hidden = self.lstm(embedded, hidden)\n",
    "        output = self.fc(output.view(1, -1))\n",
    "        return output, hidden\n",
    "\n",
    "    def init_hidden(self):\n",
    "        return torch.zeros(1, 1, self.hidden_size), torch.zeros(1, 1, self.hidden_size)"
   ]
  },
  {
   "cell_type": "code",
   "execution_count": 32,
   "id": "c7d1b163",
   "metadata": {},
   "outputs": [],
   "source": [
    "def generate_text(model, start_input, hidden, temperature, length):\n",
    "    input = start_input\n",
    "    generated_text = \"\"\n",
    "\n",
    "    for _ in range(length):\n",
    "        output, hidden = model(input, hidden)\n",
    "        output_dist = output.squeeze().div(temperature).exp()\n",
    "        predicted_word_idx = torch.multinomial(output_dist, 1)[0]\n",
    "        predicted_word = idx_to_word[predicted_word_idx.item()]\n",
    "\n",
    "        generated_text += predicted_word\n",
    "        input = torch.tensor([[predicted_word_idx.item()]])\n",
    "    \n",
    "    return generated_text"
   ]
  },
  {
   "cell_type": "code",
   "execution_count": 92,
   "id": "19f09f25",
   "metadata": {},
   "outputs": [],
   "source": [
    "# ハイパーパラメータの設定\n",
    "hidden_size = 128  # 隠れ層のサイズ\n",
    "num_epochs = 2\n",
    "learning_rate = 0.01\n",
    "\n",
    "# データの準備\n",
    "json_files = ['./json-list-data/CaveCrawler-v0.json']\n",
    "data = []\n",
    "for json_file in json_files:\n",
    "    with open(json_file, 'r') as f:\n",
    "        json_data = json.load(f)\n",
    "        json_data1 = json_data[4:]\n",
    "    data.extend(json_data1)\n",
    "\n",
    "words = [word for text in data for word in text]\n",
    "vocab = list(set(words))\n",
    "\n",
    "word_to_idx = {word: i for i, word in enumerate(vocab)}\n",
    "idx_to_word = {i: word for i, word in enumerate(vocab)}\n",
    "\n",
    "# データセットの作成\n",
    "dataset = TextDataset(data, word_to_idx)\n",
    "dataloader = DataLoader(dataset, batch_size=1, shuffle=True)"
   ]
  },
  {
   "cell_type": "code",
   "execution_count": 93,
   "id": "17dbee6d",
   "metadata": {},
   "outputs": [],
   "source": [
    "input_size = len(dataset.word_to_idx)\n",
    "output_size = len(dataset.word_to_idx)\n",
    "model = LSTMModel(input_size, hidden_size, output_size)\n",
    "\n",
    "# 損失関数と最適化手法の定義\n",
    "criterion = nn.CrossEntropyLoss()\n",
    "optimizer = optim.Adam(model.parameters(), lr=learning_rate)"
   ]
  },
  {
   "cell_type": "code",
   "execution_count": 94,
   "id": "fd7fffc1",
   "metadata": {
    "scrolled": true
   },
   "outputs": [
    {
     "name": "stdout",
     "output_type": "stream",
     "text": [
      "Epoch: 1, Loss: 0.2396\n",
      "Epoch: 2, Loss: 0.0169\n"
     ]
    }
   ],
   "source": [
    "# モデルの学習\n",
    "for epoch in range(num_epochs):\n",
    "    for batch_data in dataloader:\n",
    "        optimizer.zero_grad()\n",
    "        hidden = model.init_hidden()\n",
    "        loss = 0\n",
    "        for word in batch_data[0]:\n",
    "            output, hidden = model(word, hidden)\n",
    "            target = word.view(-1)\n",
    "            loss += criterion(output, target)\n",
    "        loss.backward()\n",
    "        optimizer.step()\n",
    "    print('Epoch: {}, Loss: {:.4f}'.format(epoch + 1, loss.item()))"
   ]
  },
  {
   "cell_type": "code",
   "execution_count": 123,
   "id": "ad885fb3",
   "metadata": {},
   "outputs": [
    {
     "name": "stdout",
     "output_type": "stream",
     "text": [
      "##########################################################################\n",
      "-------------------HHHHSHHHHHHHHHHHHHHHHHHHHHHHHHHHHHHHHHHHHSHHHHHHHHH\n",
      "HHHHHHHHHHHHHHHHHHHHHHHHHHHHHHHHHHHHHHHSHHHHHHHHHHHHHHHHHHHHHHHH------\n",
      "----------------------------------------------------------------------\n",
      "----------------------------------------------------------------------\n",
      "---------------------------------------------HHHHHHHHHHHHHHHHHHHHHHHHH\n",
      "HHHHHHHHHHHHHHHHHHHHHHHHHHHHHHHHHHHHHHHHHHHHHHHHHHHHHHHHHHHHHHHHHHHHHS\n",
      "HHSSHHHHHHHHHHHHHHHHHHHHHHHHHHSHHHHHHHHHHHHHHHHHHHHHHHHHHHHHHHHHHHHHHH\n",
      "HHHHHHHHHHHHHHHHHHHHHHHHHHHHHHHHHHHHHHSSHHHHHHHHHHHHHHHHHHHHHHHHHHHHHH\n",
      "HHHHHH--------------------------------------------HHHHHHHHHHHHHHHHHHHH\n",
      "HHHHHHHHHHHHHHHHHHHHHHHHHHHHHHHHHHHSHHHHHHHHHHHHHHHHHHHHHHHHHHHHHHHHHH\n",
      "HHHHHHHHHHHHHHHHHHHHHHHHHHHHHHHHHHHHHHHHHHHHHHHHHHHHHHHHHHHHHHHHH-----\n",
      "----------------------------------------------------------------------\n",
      "----------------------------------------------------------------------\n",
      "------------------------SSSSSSSSSSSSSSSSSSSSSSHSSSSSSSSSSSSS----------\n"
     ]
    }
   ],
   "source": [
    "# テキスト生成\n",
    "hidden = model.init_hidden()\n",
    "start_input = torch.tensor([[word_to_idx['-']]])  # 開始文字の指定\n",
    "temperature = 1.6  # 温度パラメータの設定\n",
    "X = 70\n",
    "Y = 70\n",
    "for i in range(1):\n",
    "    generated_text = generate_text(model, start_input, hidden, temperature, length=980)\n",
    "    result = [list(generated_text[i:i+X]) for i in range(0, len(generated_text), X)]\n",
    "    result = [row[:Y] for row in result[:Y]]  # リストのサイズをX * Yに制限する\n",
    "    result = [''.join(row) for row in result]\n",
    "    print(\"##########################################################################\")\n",
    "    for m in result:\n",
    "        print(m)"
   ]
  },
  {
   "cell_type": "code",
   "execution_count": null,
   "id": "3d3b1ff9",
   "metadata": {},
   "outputs": [],
   "source": []
  }
 ],
 "metadata": {
  "kernelspec": {
   "display_name": "Python 3 (ipykernel)",
   "language": "python",
   "name": "python3"
  },
  "language_info": {
   "codemirror_mode": {
    "name": "ipython",
    "version": 3
   },
   "file_extension": ".py",
   "mimetype": "text/x-python",
   "name": "python",
   "nbconvert_exporter": "python",
   "pygments_lexer": "ipython3",
   "version": "3.8.5"
  }
 },
 "nbformat": 4,
 "nbformat_minor": 5
}
