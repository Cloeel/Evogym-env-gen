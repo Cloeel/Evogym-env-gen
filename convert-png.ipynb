{
 "cells": [
  {
   "cell_type": "code",
   "execution_count": 1,
   "id": "e8f7ff41",
   "metadata": {},
   "outputs": [],
   "source": [
    "from PIL import Image\n",
    "import json\n",
    "import glob"
   ]
  },
  {
   "cell_type": "code",
   "execution_count": 21,
   "id": "4a42b5ba",
   "metadata": {},
   "outputs": [
    {
     "data": {
      "text/plain": [
       "70"
      ]
     },
     "execution_count": 21,
     "metadata": {},
     "output_type": "execute_result"
    }
   ],
   "source": [
    "# グリッドデータをリストとして追加\n",
    "# jsonファイルを読み込む\n",
    "files = glob.glob(f'./dataset/*')\n",
    "for file in files:\n",
    "    with open(file) as f:\n",
    "        env = json.load(f)\n",
    "    \n",
    "data = [\n",
    "    \"----------------------------------------------------------------------\",\n",
    "    \"----------------------------------------------------------------------\",\n",
    "    \"----------------------------------------------------------------------\",\n",
    "    \"----------------------------------------------------------------------\",\n",
    "    \"----------------------------------------------------------------------\",\n",
    "    \"----------------------------------------------------------------------\",\n",
    "    \"----------------------------------------------------------------------\",\n",
    "    \"--------------------H-------------------------------------------------\",\n",
    "    \"--------------------H-------------------------------------------------\",\n",
    "    \"--------------------H-------------------------------------------------\",\n",
    "    \"--------------------H-------------------------------------------------\",\n",
    "    \"--------------------HH------------HHHHHHHHHHHHHHHHHHHHHHHHHHHHHHHHHHHH\",\n",
    "    \"---------------------SSSSSSSSSSSSSS----SSSSSSSSSSSSSSS----HHH--------H\",\n",
    "    \"-----------------------SSSSSSSSSS---------SSSSSSSSSS-------HH--------H\",\n",
    "    \"-------------------------SSSSSS----------------------------H---------H\",\n",
    "    \"---------------------------------------------------------------------H\",\n",
    "    \"---------------------------------------------------------------------H\",\n",
    "    \"----------------------------------------------SSSSS------------------H\",\n",
    "    \"HHHHHHHHHHHHHHHHHHHHHHHHHHHHHHHHHHHHHHHHHHHHHHHHHHHHHHHHHHHHHHHHHHHHHH\"\n",
    "]\n",
    "\n",
    "len(data[0])"
   ]
  },
  {
   "cell_type": "code",
   "execution_count": 2,
   "id": "26b63819",
   "metadata": {},
   "outputs": [
    {
     "ename": "NameError",
     "evalue": "name 'data' is not defined",
     "output_type": "error",
     "traceback": [
      "\u001b[0;31m---------------------------------------------------------------------------\u001b[0m",
      "\u001b[0;31mNameError\u001b[0m                                 Traceback (most recent call last)",
      "Cell \u001b[0;32mIn[2], line 3\u001b[0m\n\u001b[1;32m      1\u001b[0m \u001b[38;5;66;03m# 画像データにする際のデータ変換\u001b[39;00m\n\u001b[1;32m      2\u001b[0m char_to_idx \u001b[38;5;241m=\u001b[39m {\u001b[38;5;124m'\u001b[39m\u001b[38;5;124m-\u001b[39m\u001b[38;5;124m'\u001b[39m: \u001b[38;5;241m0\u001b[39m, \u001b[38;5;124m'\u001b[39m\u001b[38;5;124mH\u001b[39m\u001b[38;5;124m'\u001b[39m: \u001b[38;5;241m1\u001b[39m, \u001b[38;5;124m'\u001b[39m\u001b[38;5;124mS\u001b[39m\u001b[38;5;124m'\u001b[39m: \u001b[38;5;241m2\u001b[39m}\n\u001b[0;32m----> 3\u001b[0m data_numeric \u001b[38;5;241m=\u001b[39m [[char_to_idx[char] \u001b[38;5;28;01mfor\u001b[39;00m char \u001b[38;5;129;01min\u001b[39;00m line] \u001b[38;5;28;01mfor\u001b[39;00m line \u001b[38;5;129;01min\u001b[39;00m \u001b[43mdata\u001b[49m]\n",
      "\u001b[0;31mNameError\u001b[0m: name 'data' is not defined"
     ]
    }
   ],
   "source": [
    "# 画像データにする際のデータ変換\n",
    "char_to_idx = {'-': 0, 'H': 1, 'S': 2}\n",
    "data_numeric = [[char_to_idx[char] for char in line] for line in data]"
   ]
  },
  {
   "cell_type": "code",
   "execution_count": 16,
   "id": "295fd0a5",
   "metadata": {},
   "outputs": [],
   "source": [
    "# 画像のサイズを指定\n",
    "image_width = len(data_numeric[0])\n",
    "image_height = len(data_numeric)"
   ]
  },
  {
   "cell_type": "code",
   "execution_count": 3,
   "id": "e559a0fa",
   "metadata": {},
   "outputs": [],
   "source": [
    "# リストデータを画像データに変換する関数\n",
    "def list_to_image(data_list, image_width, image_height):\n",
    "    # 画像を作成\n",
    "    image = Image.new('RGB', (image_width, image_height))\n",
    "\n",
    "    # リストデータを画像のピクセルに変換\n",
    "    for y in range(image_height):\n",
    "        for x in range(image_width):\n",
    "            pixel_value = data_list[y][x]\n",
    "            if pixel_value == 0:  # '-'の場合は黒色\n",
    "                image.putpixel((x, y), (0, 0, 0))\n",
    "            elif pixel_value == 1:  # 'H'の場合は白色\n",
    "                image.putpixel((x, y), (255, 255, 255))\n",
    "            elif pixel_value == 2:  # 'S'の場合は灰色\n",
    "                image.putpixel((x, y), (128, 128, 128))\n",
    "\n",
    "    return image"
   ]
  },
  {
   "cell_type": "code",
   "execution_count": 18,
   "id": "cfb9190e",
   "metadata": {},
   "outputs": [],
   "source": [
    "# 画像データに変換\n",
    "image = list_to_image(data_numeric, image_width, image_height)"
   ]
  },
  {
   "cell_type": "code",
   "execution_count": 19,
   "id": "159b17ad",
   "metadata": {},
   "outputs": [],
   "source": [
    "# 画像を保存\n",
    "image.save('./Original/class1/{}.png'.format)"
   ]
  },
  {
   "cell_type": "code",
   "execution_count": 5,
   "id": "8cac8646",
   "metadata": {},
   "outputs": [],
   "source": [
    "files = glob.glob(f'./json-list-data/*')\n",
    "char_to_idx = {'-': 0, 'H': 1, 'S': 2}\n",
    "a = 0\n",
    "for file in files:\n",
    "    with open(file) as f:\n",
    "        data = json.load(f)\n",
    "    data_numeric = [[char_to_idx[char] for char in line] for line in data]\n",
    "    # 画像のサイズを指定\n",
    "    image_width = len(data_numeric[0])\n",
    "    image_height = len(data_numeric)\n",
    "    image = list_to_image(data_numeric, image_width, image_height)\n",
    "    # 画像を保存\n",
    "    image.save('./Original/class2/{}.png'.format(a))\n",
    "    a += 1"
   ]
  },
  {
   "cell_type": "code",
   "execution_count": null,
   "id": "8bbccf55",
   "metadata": {},
   "outputs": [],
   "source": []
  }
 ],
 "metadata": {
  "kernelspec": {
   "display_name": "Python 3 (ipykernel)",
   "language": "python",
   "name": "python3"
  },
  "language_info": {
   "codemirror_mode": {
    "name": "ipython",
    "version": 3
   },
   "file_extension": ".py",
   "mimetype": "text/x-python",
   "name": "python",
   "nbconvert_exporter": "python",
   "pygments_lexer": "ipython3",
   "version": "3.8.5"
  }
 },
 "nbformat": 4,
 "nbformat_minor": 5
}
