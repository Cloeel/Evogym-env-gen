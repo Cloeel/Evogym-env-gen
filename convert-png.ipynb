{
 "cells": [
  {
   "cell_type": "code",
   "execution_count": 96,
   "id": "e8f7ff41",
   "metadata": {},
   "outputs": [],
   "source": [
    "from PIL import Image\n",
    "import json\n",
    "import glob\n",
    "a = 2"
   ]
  },
  {
   "cell_type": "code",
   "execution_count": 139,
   "id": "4a42b5ba",
   "metadata": {},
   "outputs": [
    {
     "data": {
      "text/plain": [
       "70"
      ]
     },
     "execution_count": 139,
     "metadata": {},
     "output_type": "execute_result"
    }
   ],
   "source": [
    "# グリッドデータをリストとして追加\n",
    "# jsonファイルを読み込む\n",
    "files = glob.glob(f'./dataset/*')\n",
    "for file in files:\n",
    "    with open(file) as f:\n",
    "        env = json.load(f)\n",
    "    \n",
    "data = [\n",
    "    \"----------------------------------------------------------------------\",\n",
    "    \"----------------------------------------------------------------------\",\n",
    "    \"----------------------------------------------------------------------\",\n",
    "    \"----------------------------------------------------------------------\",\n",
    "    \"----------------------------------------------------------------------\",\n",
    "    \"--------------------H-------------------------------------------------\",\n",
    "    \"--------------------H-------------------------------------------------\",\n",
    "    \"--------------------H-------------------------------------------------\",\n",
    "    \"--------------------H-------------------------------------------------\",\n",
    "    \"--------------------H-------------------------------------------------\",\n",
    "    \"--------------------H-------------------------------------------------\",\n",
    "    \"----------------------------------HHHHHHHHHHHHHHHHHHHHHHHHHHHHHHHHHHHH\",\n",
    "    \"---------------------SSSSSSSSSSSSSS----SSSSSSSSSSSSSSS----HHH---------\",\n",
    "    \"-----------------------SSSSSSSSSS---------HHHHHHHHHH-------HH---------\",\n",
    "    \"----------------------------------------------------------------------\",\n",
    "    \"----------------------------------------------------------------------\",\n",
    "    \"----------------------------------------------------------------------\",\n",
    "    \"----------------------------------------------SSSSS-------------------\",\n",
    "    \"HHHHHHHHHHHHHHHHHHHHHHHHHHHHHHHHHHHHHHHHHHHHHHHHHHHHHHHHHHHHHHHHHHHHHH\"\n",
    "]\n",
    "data1 = []\n",
    "for i in data:\n",
    "    i1 = i[::-1]\n",
    "    data1.append(i1)\n",
    "len(data[0])"
   ]
  },
  {
   "cell_type": "code",
   "execution_count": 140,
   "id": "26b63819",
   "metadata": {},
   "outputs": [],
   "source": [
    "# 画像データにする際のデータ変換\n",
    "char_to_idx = {'-': 0, 'H': 1, 'S': 2}\n",
    "data_numeric = [[char_to_idx[char] for char in line] for line in data1]"
   ]
  },
  {
   "cell_type": "code",
   "execution_count": 141,
   "id": "295fd0a5",
   "metadata": {},
   "outputs": [],
   "source": [
    "# 画像のサイズを指定\n",
    "image_width = len(data_numeric[0])\n",
    "image_height = len(data_numeric)"
   ]
  },
  {
   "cell_type": "code",
   "execution_count": 142,
   "id": "e559a0fa",
   "metadata": {},
   "outputs": [],
   "source": [
    "# リストデータを画像データに変換する関数\n",
    "def list_to_image(data_list, image_width, image_height):\n",
    "    # 画像を作成\n",
    "    image = Image.new('RGB', (image_width, image_height))\n",
    "\n",
    "    # リストデータを画像のピクセルに変換\n",
    "    for y in range(image_height):\n",
    "        for x in range(image_width):\n",
    "            pixel_value = data_list[y][x]\n",
    "            if pixel_value == 0:  # '-'の場合は黒色\n",
    "                image.putpixel((x, y), (0, 0, 0))\n",
    "            elif pixel_value == 1:  # 'H'の場合は白色\n",
    "                image.putpixel((x, y), (255, 255, 255))\n",
    "            elif pixel_value == 2:  # 'S'の場合は灰色\n",
    "                image.putpixel((x, y), (128, 128, 128))\n",
    "\n",
    "    return image"
   ]
  },
  {
   "cell_type": "code",
   "execution_count": 143,
   "id": "cfb9190e",
   "metadata": {},
   "outputs": [],
   "source": [
    "# 画像データに変換\n",
    "image = list_to_image(data_numeric, image_width, image_height)"
   ]
  },
  {
   "cell_type": "code",
   "execution_count": 144,
   "id": "159b17ad",
   "metadata": {},
   "outputs": [],
   "source": [
    "# 画像を保存\n",
    "a += 1\n",
    "image.save('./Original/class1/{}.png'.format(a))"
   ]
  },
  {
   "cell_type": "code",
   "execution_count": 70,
   "id": "8cac8646",
   "metadata": {},
   "outputs": [],
   "source": [
    "#files = glob.glob(f'./json-list-data/*')\n",
    "#char_to_idx = {'-': 0, 'H': 1, 'S': 2}\n",
    "#a = 0\n",
    "for file in files:\n",
    "    with open(file) as f:\n",
    "        data = json.load(f)\n",
    "    data_numeric = [[char_to_idx[char] for char in line] for line in data]\n",
    "    # 画像のサイズを指定\n",
    "    image_width = len(data_numeric[0])\n",
    "    image_height = len(data_numeric)\n",
    "    image = list_to_image(data_numeric, image_width, image_height)\n",
    "    # 画像を保存\n",
    "    image.save('./Original/class1/{}.png'.format(a))\n",
    "    a += 1"
   ]
  },
  {
   "cell_type": "code",
   "execution_count": null,
   "id": "8bbccf55",
   "metadata": {},
   "outputs": [],
   "source": []
  }
 ],
 "metadata": {
  "kernelspec": {
   "display_name": "Python 3 (ipykernel)",
   "language": "python",
   "name": "python3"
  },
  "language_info": {
   "codemirror_mode": {
    "name": "ipython",
    "version": 3
   },
   "file_extension": ".py",
   "mimetype": "text/x-python",
   "name": "python",
   "nbconvert_exporter": "python",
   "pygments_lexer": "ipython3",
   "version": "3.8.5"
  }
 },
 "nbformat": 4,
 "nbformat_minor": 5
}
