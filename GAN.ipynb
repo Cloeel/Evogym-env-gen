{
 "cells": [
  {
   "cell_type": "code",
   "execution_count": 1,
   "id": "4b36e40c",
   "metadata": {},
   "outputs": [],
   "source": [
    "import time\n",
    "import torch\n",
    "import torch.nn as nn\n",
    "import torch.optim as optim\n",
    "from torch.utils.data import DataLoader\n",
    "from torchvision import datasets\n",
    "from torchvision.transforms import transforms"
   ]
  },
  {
   "cell_type": "code",
   "execution_count": 2,
   "id": "8a41e3d2-439c-40d3-8f35-978b9c1aa8fd",
   "metadata": {},
   "outputs": [],
   "source": [
    "class discriminator(nn.Module):\n",
    "    def __init__(self):\n",
    "        super(discriminator, self).__init__()\n",
    "        self.fc1 = nn.Linear(784, 512)\n",
    "        self.fc2 = nn.Linear(512, 1)\n",
    "        self.activation = nn.LeakyReLU(0.1)\n",
    "\n",
    "    def forward(self, x):\n",
    "        x = x.view(-1, 784)\n",
    "        x = self.activation(self.fc1(x))\n",
    "        x = self.fc2(x)\n",
    "        return nn.Sigmoid()(x)"
   ]
  },
  {
   "cell_type": "code",
   "execution_count": 3,
   "id": "07803131",
   "metadata": {},
   "outputs": [],
   "source": [
    "class generator(nn.Module):\n",
    "    def __init__(self):\n",
    "        super(generator, self).__init__()\n",
    "        self.fc1 = nn.Linear(128, 1024)\n",
    "        self.fc2 = nn.Linear(1024, 2048)\n",
    "        self.fc3 = nn.Linear(2048, 784)\n",
    "        self.activation = nn.ReLU()\n",
    "\n",
    "    def forward(self, x):\n",
    "        x = self.activation(self.fc1(x))\n",
    "        x = self.activation(self.fc2(x))\n",
    "        x = self.fc3(x)\n",
    "        x = x.view(-1, 1, 28, 28)\n",
    "        return nn.Tanh()(x)"
   ]
  },
  {
   "cell_type": "code",
   "execution_count": 4,
   "id": "eb31bab1",
   "metadata": {},
   "outputs": [],
   "source": [
    "def build_generator(self):\n",
    "    noise_shape = (self.z_dim,)\n",
    "\n",
    "    model = Sequential()\n",
    "\n",
    "    model.add(Dense(128 * 32 * 32, activation=\"relu\", input_shape=noise_shape))\n",
    "    model.add(Reshape((32, 32, 128)))\n",
    "    model.add(BatchNormalization(momentum=0.8))\n",
    "    model.add(UpSampling2D())\n",
    "    model.add(Conv2D(128, kernel_size=3, padding=\"same\"))\n",
    "    model.add(Activation(\"relu\"))\n",
    "    model.add(BatchNormalization(momentum=0.8))\n",
    "    model.add(UpSampling2D())\n",
    "    model.add(Conv2D(64, kernel_size=3, padding=\"same\"))\n",
    "    model.add(Activation(\"relu\"))\n",
    "    model.add(BatchNormalization(momentum=0.8))\n",
    "    model.add(Conv2D(3, kernel_size=3, padding=\"same\"))\n",
    "    model.add(Activation(\"tanh\"))\n",
    "\n",
    "    model.summary()\n",
    "\n",
    "    noise = Input(shape=noise_shape)\n",
    "    img = model(noise)\n",
    "\n",
    "    return Model(noise, img)"
   ]
  },
  {
   "cell_type": "code",
   "execution_count": 36,
   "id": "5188932b",
   "metadata": {},
   "outputs": [],
   "source": [
    "import time\n",
    "import torch\n",
    "import torch.nn as nn\n",
    "import torch.optim as optim\n",
    "from torch.utils.data import DataLoader\n",
    "from torchvision import datasets\n",
    "from torchvision.transforms import transforms\n",
    "import numpy as np\n",
    "import matplotlib.pyplot as plt"
   ]
  },
  {
   "cell_type": "code",
   "execution_count": 37,
   "id": "d8e5b5e0",
   "metadata": {},
   "outputs": [],
   "source": [
    "# GPU利用可否確認\n",
    "device = torch.device('cuda' if torch.cuda.is_available() else 'cpu')\n",
    "\n",
    "\n",
    "\n",
    "# ハイパーパラメタ設定\n",
    "epochs = 30\n",
    "lr = 2e-4\n",
    "batch_size = 64\n",
    "loss = nn.BCELoss()\n"
   ]
  },
  {
   "cell_type": "code",
   "execution_count": 38,
   "id": "71de4fc8",
   "metadata": {},
   "outputs": [],
   "source": [
    "# Model\n",
    "G = generator().to(device)\n",
    "D = discriminator().to(device)\n",
    "\n",
    "G_optimizer = optim.Adam(G.parameters(), lr=lr, betas=(0.5, 0.999))\n",
    "D_optimizer = optim.Adam(D.parameters(), lr=lr, betas=(0.5, 0.999))"
   ]
  },
  {
   "cell_type": "code",
   "execution_count": 7,
   "id": "3eb16384",
   "metadata": {},
   "outputs": [
    {
     "name": "stderr",
     "output_type": "stream",
     "text": [
      "5.0%"
     ]
    },
    {
     "name": "stdout",
     "output_type": "stream",
     "text": [
      "Downloading http://yann.lecun.com/exdb/mnist/train-images-idx3-ubyte.gz\n",
      "Downloading http://yann.lecun.com/exdb/mnist/train-images-idx3-ubyte.gz to mnist/MNIST/raw/train-images-idx3-ubyte.gz\n"
     ]
    },
    {
     "name": "stderr",
     "output_type": "stream",
     "text": [
      "100.0%\n"
     ]
    },
    {
     "name": "stdout",
     "output_type": "stream",
     "text": [
      "Extracting mnist/MNIST/raw/train-images-idx3-ubyte.gz to mnist/MNIST/raw\n",
      "\n",
      "Downloading http://yann.lecun.com/exdb/mnist/train-labels-idx1-ubyte.gz\n"
     ]
    },
    {
     "name": "stderr",
     "output_type": "stream",
     "text": [
      "100.0%\n",
      "31.8%"
     ]
    },
    {
     "name": "stdout",
     "output_type": "stream",
     "text": [
      "Downloading http://yann.lecun.com/exdb/mnist/train-labels-idx1-ubyte.gz to mnist/MNIST/raw/train-labels-idx1-ubyte.gz\n",
      "Extracting mnist/MNIST/raw/train-labels-idx1-ubyte.gz to mnist/MNIST/raw\n",
      "\n",
      "Downloading http://yann.lecun.com/exdb/mnist/t10k-images-idx3-ubyte.gz\n",
      "Downloading http://yann.lecun.com/exdb/mnist/t10k-images-idx3-ubyte.gz to mnist/MNIST/raw/t10k-images-idx3-ubyte.gz\n"
     ]
    },
    {
     "name": "stderr",
     "output_type": "stream",
     "text": [
      "100.0%\n",
      "100.0%"
     ]
    },
    {
     "name": "stdout",
     "output_type": "stream",
     "text": [
      "Extracting mnist/MNIST/raw/t10k-images-idx3-ubyte.gz to mnist/MNIST/raw\n",
      "\n",
      "Downloading http://yann.lecun.com/exdb/mnist/t10k-labels-idx1-ubyte.gz\n",
      "Downloading http://yann.lecun.com/exdb/mnist/t10k-labels-idx1-ubyte.gz to mnist/MNIST/raw/t10k-labels-idx1-ubyte.gz\n",
      "Extracting mnist/MNIST/raw/t10k-labels-idx1-ubyte.gz to mnist/MNIST/raw\n",
      "\n"
     ]
    },
    {
     "name": "stderr",
     "output_type": "stream",
     "text": [
      "\n"
     ]
    }
   ],
   "source": [
    "\"\"\"\n",
    "画像変換とデータローダの作成\n",
    "ここでは分類ではなく生成のトレーニングを行っているので\n",
    "train_loaderのみがロードされます。\n",
    "\"\"\"\n",
    "# Transform\n",
    "transform = transforms.Compose([transforms.ToTensor(),\n",
    "                                transforms.Normalize((0.5,), (0.5,))])\n",
    "# Load data\n",
    "train_set = datasets.MNIST('mnist/', train=True, download=True, transform=transform)\n",
    "train_loader = DataLoader(train_set, batch_size=batch_size, shuffle=True)"
   ]
  },
  {
   "cell_type": "code",
   "execution_count": 42,
   "id": "e4efd9ec-15ec-4bbf-a404-be1f3c409379",
   "metadata": {},
   "outputs": [
    {
     "data": {
      "text/plain": [
       "<torch.utils.data.dataloader.DataLoader at 0x16c33b370>"
      ]
     },
     "execution_count": 42,
     "metadata": {},
     "output_type": "execute_result"
    }
   ],
   "source": [
    "import torch\n",
    "import torchvision\n",
    "from torchvision import transforms\n",
    "# image_sizeやmean, stdはデータに合わせて設定してください。\n",
    "image_size = 28*28\n",
    "mean = (0.485, 0.456, 0.406)\n",
    "std = (0.229, 0.224, 0.225)\n",
    "\n",
    "# trainデータとvalidationデータが入っているディレクトリのパスを指定\n",
    "train_image_dir = './Original'\n",
    "val_image_dir = './Original'\n",
    "\n",
    "# trainデータ向けとvalidationデータ向けに、transformを用意します。\n",
    "# 皆さんのやりたいことに合わせて適宜変更してください。\n",
    "data_transform = {\n",
    "    'train': transforms.Compose([\n",
    "        transforms.RandomResizedCrop(\n",
    "            image_size, scale=(0.5, 1.0)\n",
    "        ),\n",
    "        transforms.RandomHorizontalFlip(),\n",
    "        transforms.RandomRotation(degrees=[-15, 15]),\n",
    "        transforms.ToTensor(),\n",
    "        transforms.Normalize(mean, std),\n",
    "        transforms.RandomErasing(0.5),\n",
    "    ]),\n",
    "    'val': transforms.Compose([\n",
    "        transforms.Resize(image_size),\n",
    "        transforms.CenterCrop(image_size),\n",
    "        transforms.ToTensor(),\n",
    "        transforms.Normalize(mean, std)\n",
    "    ])\n",
    "}\n",
    "\n",
    "# torchvision.datasets.ImageFolderでデータの入っているディレクトリのパスと\n",
    "# transformを指定してあげるだけ。\n",
    "train_dataset = torchvision.datasets.ImageFolder(root=train_image_dir, transform=data_transform['train'])\n",
    "\n",
    "\n",
    "# Datasetができたら、dataloaderに渡してあげればOK\n",
    "batch_size = 64\n",
    "train_dataLoader = torch.utils.data.DataLoader(\n",
    "    train_dataset, batch_size=batch_size, shuffle=True\n",
    ")\n",
    "train_dataLoader"
   ]
  },
  {
   "cell_type": "code",
   "execution_count": 40,
   "id": "b43e8963",
   "metadata": {
    "scrolled": true
   },
   "outputs": [
    {
     "ename": "ValueError",
     "evalue": "Using a target size (torch.Size([128, 1])) that is different to the input size (torch.Size([150592, 1])) is deprecated. Please ensure they have the same size.",
     "output_type": "error",
     "traceback": [
      "\u001b[0;31m---------------------------------------------------------------------------\u001b[0m",
      "\u001b[0;31mValueError\u001b[0m                                Traceback (most recent call last)",
      "Cell \u001b[0;32mIn[40], line 28\u001b[0m\n\u001b[1;32m     25\u001b[0m outputs \u001b[38;5;241m=\u001b[39m torch\u001b[38;5;241m.\u001b[39mcat((real_outputs, fake_outputs), \u001b[38;5;241m0\u001b[39m)\n\u001b[1;32m     26\u001b[0m targets \u001b[38;5;241m=\u001b[39m torch\u001b[38;5;241m.\u001b[39mcat((real_label, fake_label), \u001b[38;5;241m0\u001b[39m)\n\u001b[0;32m---> 28\u001b[0m D_loss \u001b[38;5;241m=\u001b[39m \u001b[43mloss\u001b[49m\u001b[43m(\u001b[49m\u001b[43moutputs\u001b[49m\u001b[43m,\u001b[49m\u001b[43m \u001b[49m\u001b[43mtargets\u001b[49m\u001b[43m)\u001b[49m\n\u001b[1;32m     29\u001b[0m D_optimizer\u001b[38;5;241m.\u001b[39mzero_grad()\n\u001b[1;32m     30\u001b[0m D_loss\u001b[38;5;241m.\u001b[39mbackward()\n",
      "File \u001b[0;32m~/Downloads/Research/aki-help/Evogym-env-gen/.venv/lib/python3.8/site-packages/torch/nn/modules/module.py:1501\u001b[0m, in \u001b[0;36mModule._call_impl\u001b[0;34m(self, *args, **kwargs)\u001b[0m\n\u001b[1;32m   1496\u001b[0m \u001b[38;5;66;03m# If we don't have any hooks, we want to skip the rest of the logic in\u001b[39;00m\n\u001b[1;32m   1497\u001b[0m \u001b[38;5;66;03m# this function, and just call forward.\u001b[39;00m\n\u001b[1;32m   1498\u001b[0m \u001b[38;5;28;01mif\u001b[39;00m \u001b[38;5;129;01mnot\u001b[39;00m (\u001b[38;5;28mself\u001b[39m\u001b[38;5;241m.\u001b[39m_backward_hooks \u001b[38;5;129;01mor\u001b[39;00m \u001b[38;5;28mself\u001b[39m\u001b[38;5;241m.\u001b[39m_backward_pre_hooks \u001b[38;5;129;01mor\u001b[39;00m \u001b[38;5;28mself\u001b[39m\u001b[38;5;241m.\u001b[39m_forward_hooks \u001b[38;5;129;01mor\u001b[39;00m \u001b[38;5;28mself\u001b[39m\u001b[38;5;241m.\u001b[39m_forward_pre_hooks\n\u001b[1;32m   1499\u001b[0m         \u001b[38;5;129;01mor\u001b[39;00m _global_backward_pre_hooks \u001b[38;5;129;01mor\u001b[39;00m _global_backward_hooks\n\u001b[1;32m   1500\u001b[0m         \u001b[38;5;129;01mor\u001b[39;00m _global_forward_hooks \u001b[38;5;129;01mor\u001b[39;00m _global_forward_pre_hooks):\n\u001b[0;32m-> 1501\u001b[0m     \u001b[38;5;28;01mreturn\u001b[39;00m \u001b[43mforward_call\u001b[49m\u001b[43m(\u001b[49m\u001b[38;5;241;43m*\u001b[39;49m\u001b[43margs\u001b[49m\u001b[43m,\u001b[49m\u001b[43m \u001b[49m\u001b[38;5;241;43m*\u001b[39;49m\u001b[38;5;241;43m*\u001b[39;49m\u001b[43mkwargs\u001b[49m\u001b[43m)\u001b[49m\n\u001b[1;32m   1502\u001b[0m \u001b[38;5;66;03m# Do not call functions when jit is used\u001b[39;00m\n\u001b[1;32m   1503\u001b[0m full_backward_hooks, non_full_backward_hooks \u001b[38;5;241m=\u001b[39m [], []\n",
      "File \u001b[0;32m~/Downloads/Research/aki-help/Evogym-env-gen/.venv/lib/python3.8/site-packages/torch/nn/modules/loss.py:619\u001b[0m, in \u001b[0;36mBCELoss.forward\u001b[0;34m(self, input, target)\u001b[0m\n\u001b[1;32m    618\u001b[0m \u001b[38;5;28;01mdef\u001b[39;00m \u001b[38;5;21mforward\u001b[39m(\u001b[38;5;28mself\u001b[39m, \u001b[38;5;28minput\u001b[39m: Tensor, target: Tensor) \u001b[38;5;241m-\u001b[39m\u001b[38;5;241m>\u001b[39m Tensor:\n\u001b[0;32m--> 619\u001b[0m     \u001b[38;5;28;01mreturn\u001b[39;00m \u001b[43mF\u001b[49m\u001b[38;5;241;43m.\u001b[39;49m\u001b[43mbinary_cross_entropy\u001b[49m\u001b[43m(\u001b[49m\u001b[38;5;28;43minput\u001b[39;49m\u001b[43m,\u001b[49m\u001b[43m \u001b[49m\u001b[43mtarget\u001b[49m\u001b[43m,\u001b[49m\u001b[43m \u001b[49m\u001b[43mweight\u001b[49m\u001b[38;5;241;43m=\u001b[39;49m\u001b[38;5;28;43mself\u001b[39;49m\u001b[38;5;241;43m.\u001b[39;49m\u001b[43mweight\u001b[49m\u001b[43m,\u001b[49m\u001b[43m \u001b[49m\u001b[43mreduction\u001b[49m\u001b[38;5;241;43m=\u001b[39;49m\u001b[38;5;28;43mself\u001b[39;49m\u001b[38;5;241;43m.\u001b[39;49m\u001b[43mreduction\u001b[49m\u001b[43m)\u001b[49m\n",
      "File \u001b[0;32m~/Downloads/Research/aki-help/Evogym-env-gen/.venv/lib/python3.8/site-packages/torch/nn/functional.py:3089\u001b[0m, in \u001b[0;36mbinary_cross_entropy\u001b[0;34m(input, target, weight, size_average, reduce, reduction)\u001b[0m\n\u001b[1;32m   3087\u001b[0m     reduction_enum \u001b[38;5;241m=\u001b[39m _Reduction\u001b[38;5;241m.\u001b[39mget_enum(reduction)\n\u001b[1;32m   3088\u001b[0m \u001b[38;5;28;01mif\u001b[39;00m target\u001b[38;5;241m.\u001b[39msize() \u001b[38;5;241m!=\u001b[39m \u001b[38;5;28minput\u001b[39m\u001b[38;5;241m.\u001b[39msize():\n\u001b[0;32m-> 3089\u001b[0m     \u001b[38;5;28;01mraise\u001b[39;00m \u001b[38;5;167;01mValueError\u001b[39;00m(\n\u001b[1;32m   3090\u001b[0m         \u001b[38;5;124m\"\u001b[39m\u001b[38;5;124mUsing a target size (\u001b[39m\u001b[38;5;132;01m{}\u001b[39;00m\u001b[38;5;124m) that is different to the input size (\u001b[39m\u001b[38;5;132;01m{}\u001b[39;00m\u001b[38;5;124m) is deprecated. \u001b[39m\u001b[38;5;124m\"\u001b[39m\n\u001b[1;32m   3091\u001b[0m         \u001b[38;5;124m\"\u001b[39m\u001b[38;5;124mPlease ensure they have the same size.\u001b[39m\u001b[38;5;124m\"\u001b[39m\u001b[38;5;241m.\u001b[39mformat(target\u001b[38;5;241m.\u001b[39msize(), \u001b[38;5;28minput\u001b[39m\u001b[38;5;241m.\u001b[39msize())\n\u001b[1;32m   3092\u001b[0m     )\n\u001b[1;32m   3094\u001b[0m \u001b[38;5;28;01mif\u001b[39;00m weight \u001b[38;5;129;01mis\u001b[39;00m \u001b[38;5;129;01mnot\u001b[39;00m \u001b[38;5;28;01mNone\u001b[39;00m:\n\u001b[1;32m   3095\u001b[0m     new_size \u001b[38;5;241m=\u001b[39m _infer_size(target\u001b[38;5;241m.\u001b[39msize(), weight\u001b[38;5;241m.\u001b[39msize())\n",
      "\u001b[0;31mValueError\u001b[0m: Using a target size (torch.Size([128, 1])) that is different to the input size (torch.Size([150592, 1])) is deprecated. Please ensure they have the same size."
     ]
    }
   ],
   "source": [
    "\"\"\"\n",
    "ネットワークの学習手順\n",
    "識別器と生成器の損失はステップごとに更新される\n",
    "判別器は本物と偽物を分類することを目的とする\n",
    "ジェネレータは可能な限りリアルな画像を生成することを目的とする\n",
    "\"\"\"\n",
    "for epoch in range(epochs):\n",
    "    for idx, (imgs, _) in enumerate(train_dataLoader):\n",
    "        idx += 1\n",
    "\n",
    "        # 識別器の学習\n",
    "        # 本物の入力は，MNISTデータセットの実際の画像\n",
    "        # 偽の入力はジェネレータから\n",
    "        # 本物の入力は1に、偽物は0に分類されるべきである\n",
    "        real_inputs = imgs.to(device)\n",
    "        real_outputs = D(real_inputs)\n",
    "        real_label = torch.ones(real_inputs.shape[0], 1).to(device)\n",
    "\n",
    "        noise = (torch.rand(real_inputs.shape[0], 128) - 0.5) / 0.5\n",
    "        noise = noise.to(device)\n",
    "        fake_inputs = G(noise)\n",
    "        fake_outputs = D(fake_inputs)\n",
    "        fake_label = torch.zeros(fake_inputs.shape[0], 1).to(device)\n",
    "\n",
    "        outputs = torch.cat((real_outputs, fake_outputs), 0)\n",
    "        targets = torch.cat((real_label, fake_label), 0)\n",
    "\n",
    "        D_loss = loss(outputs, targets)\n",
    "        D_optimizer.zero_grad()\n",
    "        D_loss.backward()\n",
    "        D_optimizer.step()\n",
    "\n",
    "\n",
    "        # Generatorのトレーニング\n",
    "        # ジェネレータにとっての目標は 識別者に全てが1であると信じさせること\n",
    "        noise = (torch.rand(real_inputs.shape[0], 128)-0.5)/0.5\n",
    "        noise = noise.to(device)\n",
    "\n",
    "        fake_inputs = G(noise)\n",
    "        fake_outputs = D(fake_inputs)\n",
    "        fake_targets = torch.ones([fake_inputs.shape[0], 1]).to(device)\n",
    "        G_loss = loss(fake_outputs, fake_targets)\n",
    "        G_optimizer.zero_grad()\n",
    "        G_loss.backward()\n",
    "        G_optimizer.step()\n",
    "\n",
    "        if idx % 100 == 0 or idx == len(train_loader):\n",
    "            print('Epoch {} Iteration {}: discriminator_loss {:.3f} generator_loss {:.3f}'.format(epoch, idx, D_loss.item(), G_loss.item()))\n",
    "\n",
    "    if (epoch+1) % 10 == 0:\n",
    "        torch.save(G, 'Generator_epoch_{}.pth'.format(epoch))\n",
    "        print('Model saved.')"
   ]
  },
  {
   "cell_type": "code",
   "execution_count": 14,
   "id": "be2f6468",
   "metadata": {},
   "outputs": [
    {
     "name": "stdout",
     "output_type": "stream",
     "text": [
      "real\n"
     ]
    },
    {
     "ename": "RuntimeError",
     "evalue": "shape '[28, 28]' is invalid for input of size 28",
     "output_type": "error",
     "traceback": [
      "\u001b[0;31m---------------------------------------------------------------------------\u001b[0m",
      "\u001b[0;31mRuntimeError\u001b[0m                              Traceback (most recent call last)",
      "Cell \u001b[0;32mIn[14], line 3\u001b[0m\n\u001b[1;32m      1\u001b[0m \u001b[38;5;28;01mfor\u001b[39;00m i \u001b[38;5;129;01min\u001b[39;00m real_inputs:\n\u001b[1;32m      2\u001b[0m   \u001b[38;5;28mprint\u001b[39m(\u001b[38;5;124m\"\u001b[39m\u001b[38;5;124mreal\u001b[39m\u001b[38;5;124m\"\u001b[39m)\n\u001b[0;32m----> 3\u001b[0m   plt\u001b[38;5;241m.\u001b[39mimshow(\u001b[43mi\u001b[49m\u001b[43m[\u001b[49m\u001b[38;5;241;43m0\u001b[39;49m\u001b[43m]\u001b[49m\u001b[43m[\u001b[49m\u001b[38;5;241;43m0\u001b[39;49m\u001b[43m]\u001b[49m\u001b[38;5;241;43m.\u001b[39;49m\u001b[43mreshape\u001b[49m\u001b[43m(\u001b[49m\u001b[38;5;241;43m28\u001b[39;49m\u001b[43m,\u001b[49m\u001b[38;5;241;43m28\u001b[39;49m\u001b[43m)\u001b[49m)\n\u001b[1;32m      4\u001b[0m   plt\u001b[38;5;241m.\u001b[39mshow()\n\u001b[1;32m      5\u001b[0m   real_inputs \u001b[38;5;241m=\u001b[39m i[\u001b[38;5;241m0\u001b[39m][\u001b[38;5;241m0\u001b[39m]\n",
      "\u001b[0;31mRuntimeError\u001b[0m: shape '[28, 28]' is invalid for input of size 28"
     ]
    }
   ],
   "source": [
    "for i in input:\n",
    "  print(\"real\")\n",
    "  plt.imshow(i[0][0].reshape(28,28))\n",
    "  plt.show()\n",
    "  real_inputs = i[0][0]\n",
    "  noise = (torch.rand(real_inputs.shape[0], 128)-0.5)/0.5\n",
    "  noise = noise.to(device)\n",
    "  fake_inputs = G(noise)\n",
    "  print(\"fake\")\n",
    "  plt.imshow(fake_inputs[0][0].cpu().detach().numpy().reshape(28,28))\n",
    "  plt.show()\n",
    "  break"
   ]
  },
  {
   "cell_type": "code",
   "execution_count": 20,
   "id": "f5f5002b-d9ea-4058-8eb1-53b0b015ae52",
   "metadata": {},
   "outputs": [
    {
     "name": "stdout",
     "output_type": "stream",
     "text": [
      "fake\n"
     ]
    },
    {
     "data": {
      "image/png": "[encoded data removed]",
      "text/plain": [
       "<Figure size 640x480 with 1 Axes>"
      ]
     },
     "metadata": {},
     "output_type": "display_data"
    }
   ],
   "source": [
    "noise = (torch.rand(real_inputs.shape[0], 128)-0.5)/0.5\n",
    "noise = noise.to(device)\n",
    "fake_inputs = G(noise)\n",
    "print(\"fake\")\n",
    "plt.imshow(fake_inputs[0][0].cpu().detach().numpy().reshape(28,28))\n",
    "plt.show()"
   ]
  },
  {
   "cell_type": "code",
   "execution_count": 46,
   "id": "4bca6364-5d0e-4107-8bab-4e632ba07eed",
   "metadata": {},
   "outputs": [
    {
     "name": "stdout",
     "output_type": "stream",
     "text": [
      "Random Seed:  1393\n"
     ]
    },
    {
     "data": {
      "text/plain": [
       "<torch._C.Generator at 0x11850e130>"
      ]
     },
     "execution_count": 46,
     "metadata": {},
     "output_type": "execute_result"
    }
   ],
   "source": [
    "from __future__ import print_function\n",
    "#%matplotlib inline\n",
    "import argparse\n",
    "import os\n",
    "import random\n",
    "import torch\n",
    "import torch.nn as nn\n",
    "import torch.nn.parallel\n",
    "import torch.backends.cudnn as cudnn\n",
    "import torch.optim as optim\n",
    "import torch.utils.data\n",
    "import torchvision.datasets as dset\n",
    "import torchvision.transforms as transforms\n",
    "import torchvision.utils as vutils\n",
    "import numpy as np\n",
    "import matplotlib.pyplot as plt\n",
    "import matplotlib.animation as animation\n",
    "from IPython.display import HTML\n",
    "\n",
    "# Set random seed for reproducibility\n",
    "#manualSeed = 999\n",
    "manualSeed = random.randint(1, 10000) # use if you want new results\n",
    "print(\"Random Seed: \", manualSeed)\n",
    "random.seed(manualSeed)\n",
    "torch.manual_seed(manualSeed)\n"
   ]
  },
  {
   "cell_type": "code",
   "execution_count": 48,
   "id": "752619ae-2934-4d63-956d-5026f6a9a74c",
   "metadata": {},
   "outputs": [],
   "source": [
    "# Root directory for dataset\n",
    "# ここでディレクトリを指定\n",
    "dataroot = \"./Original\"\n",
    "\n",
    "# Number of workers for dataloader\n",
    "workers = 2\n",
    "\n",
    "# Batch size during training\n",
    "batch_size = 128\n",
    "\n",
    "# Spatial size of training images. All images will be resized to this\n",
    "#   size using a transformer.\n",
    "image_size = 64\n",
    "\n",
    "# Number of channels in the training images. For color images this is 3\n",
    "nc = 3\n",
    "\n",
    "# Size of z latent vector (i.e. size of generator input)\n",
    "nz = 100\n",
    "\n",
    "# Size of feature maps in generator\n",
    "ngf = 64\n",
    "\n",
    "# Size of feature maps in discriminator\n",
    "ndf = 64\n",
    "\n",
    "# Number of training epochs\n",
    "# num_epochs = 5\n",
    "num_epochs = 100\n",
    "\n",
    "# Learning rate for optimizers\n",
    "lr = 0.0002\n",
    "\n",
    "# Beta1 hyperparam for Adam optimizers\n",
    "beta1 = 0.5\n",
    "\n",
    "# Number of GPUs available. Use 0 for CPU mode.\n",
    "ngpu = 0"
   ]
  },
  {
   "cell_type": "code",
   "execution_count": 49,
   "id": "1c0e6f96-1be9-4da6-a95f-cf982b8a5a2e",
   "metadata": {},
   "outputs": [
    {
     "data": {
      "text/plain": [
       "<matplotlib.image.AxesImage at 0x16c9e92b0>"
      ]
     },
     "execution_count": 49,
     "metadata": {},
     "output_type": "execute_result"
    },
    {
     "data": {
      "image/png": "[encoded data removed]",
      "text/plain": [
       "<Figure size 800x800 with 1 Axes>"
      ]
     },
     "metadata": {},
     "output_type": "display_data"
    }
   ],
   "source": [
    "# We can use an image folder dataset the way we have it setup.\n",
    "# Create the dataset\n",
    "dataset = dset.ImageFolder(root=dataroot,\n",
    "                           transform=transforms.Compose([\n",
    "                               transforms.Resize(image_size),\n",
    "                               transforms.CenterCrop(image_size),\n",
    "                               transforms.ToTensor(),\n",
    "                               transforms.Normalize((0.5, 0.5, 0.5), (0.5, 0.5, 0.5)),\n",
    "                           ]))\n",
    "# Create the dataloader\n",
    "dataloader = torch.utils.data.DataLoader(dataset, batch_size=batch_size,\n",
    "                                         shuffle=True, num_workers=workers)\n",
    "\n",
    "# Decide which device we want to run on\n",
    "device = torch.device(\"cuda:0\" if (torch.cuda.is_available() and ngpu > 0) else \"cpu\")\n",
    "\n",
    "# Plot some training images\n",
    "real_batch = next(iter(dataloader))\n",
    "plt.figure(figsize=(8,8))\n",
    "plt.axis(\"off\")\n",
    "plt.title(\"Training Images\")\n",
    "plt.imshow(np.transpose(vutils.make_grid(real_batch[0].to(device)[:64], padding=2, normalize=True).cpu(),(1,2,0)))"
   ]
  },
  {
   "cell_type": "code",
   "execution_count": null,
   "id": "13f79ded-7a03-4d00-82cb-c47e7a53bf34",
   "metadata": {},
   "outputs": [
    {
     "name": "stdout",
     "output_type": "stream",
     "text": [
      "Starting Training Loop...\n",
      "[0/100][0/11]\tLoss_D: 1.7334\tLoss_G: 4.1344\tD(x): 0.5436\tD(G(z)): 0.5794 / 0.0243\n",
      "[1/100][0/11]\tLoss_D: 0.0750\tLoss_G: 8.0870\tD(x): 0.9920\tD(G(z)): 0.0619 / 0.0005\n",
      "[2/100][0/11]\tLoss_D: 0.0606\tLoss_G: 9.7245\tD(x): 0.9943\tD(G(z)): 0.0516 / 0.0001\n",
      "[3/100][0/11]\tLoss_D: 0.0460\tLoss_G: 10.2034\tD(x): 0.9854\tD(G(z)): 0.0289 / 0.0000\n",
      "[4/100][0/11]\tLoss_D: 0.0611\tLoss_G: 15.7500\tD(x): 0.9986\tD(G(z)): 0.0572 / 0.0000\n",
      "[5/100][0/11]\tLoss_D: 0.0034\tLoss_G: 18.4077\tD(x): 0.9967\tD(G(z)): 0.0000 / 0.0000\n",
      "[6/100][0/11]\tLoss_D: 0.0064\tLoss_G: 6.7679\tD(x): 0.9995\tD(G(z)): 0.0059 / 0.0013\n",
      "[7/100][0/11]\tLoss_D: 0.0010\tLoss_G: 17.8481\tD(x): 0.9990\tD(G(z)): 0.0000 / 0.0000\n",
      "[8/100][0/11]\tLoss_D: 0.0049\tLoss_G: 15.0884\tD(x): 0.9953\tD(G(z)): 0.0000 / 0.0000\n",
      "[9/100][0/11]\tLoss_D: 0.0060\tLoss_G: 8.6001\tD(x): 0.9992\tD(G(z)): 0.0052 / 0.0002\n",
      "[10/100][0/11]\tLoss_D: 0.0064\tLoss_G: 9.5548\tD(x): 0.9985\tD(G(z)): 0.0048 / 0.0001\n",
      "[11/100][0/11]\tLoss_D: 0.0049\tLoss_G: 9.0181\tD(x): 0.9998\tD(G(z)): 0.0047 / 0.0001\n",
      "[12/100][0/11]\tLoss_D: 0.0023\tLoss_G: 8.7607\tD(x): 0.9999\tD(G(z)): 0.0022 / 0.0002\n",
      "[13/100][0/11]\tLoss_D: 0.0038\tLoss_G: 8.7161\tD(x): 0.9992\tD(G(z)): 0.0030 / 0.0002\n",
      "[14/100][0/11]\tLoss_D: 0.0023\tLoss_G: 8.6352\tD(x): 0.9998\tD(G(z)): 0.0021 / 0.0002\n",
      "[15/100][0/11]\tLoss_D: 0.0033\tLoss_G: 8.8300\tD(x): 0.9994\tD(G(z)): 0.0027 / 0.0002\n",
      "[16/100][0/11]\tLoss_D: 0.0024\tLoss_G: 8.6531\tD(x): 0.9992\tD(G(z)): 0.0016 / 0.0002\n",
      "[17/100][0/11]\tLoss_D: 0.0029\tLoss_G: 8.5031\tD(x): 0.9991\tD(G(z)): 0.0020 / 0.0002\n",
      "[18/100][0/11]\tLoss_D: 0.0022\tLoss_G: 8.5074\tD(x): 0.9995\tD(G(z)): 0.0017 / 0.0002\n",
      "[19/100][0/11]\tLoss_D: 0.0013\tLoss_G: 8.8337\tD(x): 0.9995\tD(G(z)): 0.0008 / 0.0002\n",
      "[20/100][0/11]\tLoss_D: 0.0024\tLoss_G: 8.0530\tD(x): 0.9994\tD(G(z)): 0.0018 / 0.0003\n",
      "[21/100][0/11]\tLoss_D: 0.0021\tLoss_G: 8.1462\tD(x): 0.9998\tD(G(z)): 0.0019 / 0.0003\n",
      "[22/100][0/11]\tLoss_D: 0.0018\tLoss_G: 8.2356\tD(x): 0.9996\tD(G(z)): 0.0014 / 0.0003\n",
      "[23/100][0/11]\tLoss_D: 0.0021\tLoss_G: 8.1148\tD(x): 0.9997\tD(G(z)): 0.0018 / 0.0003\n",
      "[24/100][0/11]\tLoss_D: 0.0023\tLoss_G: 8.0612\tD(x): 0.9996\tD(G(z)): 0.0020 / 0.0003\n",
      "[25/100][0/11]\tLoss_D: 0.0010\tLoss_G: 8.5187\tD(x): 0.9998\tD(G(z)): 0.0007 / 0.0002\n",
      "[26/100][0/11]\tLoss_D: 0.0014\tLoss_G: 8.5525\tD(x): 0.9996\tD(G(z)): 0.0010 / 0.0002\n",
      "[27/100][0/11]\tLoss_D: 0.0013\tLoss_G: 8.0904\tD(x): 1.0000\tD(G(z)): 0.0012 / 0.0003\n",
      "[28/100][0/11]\tLoss_D: 0.0011\tLoss_G: 8.4095\tD(x): 0.9999\tD(G(z)): 0.0010 / 0.0002\n",
      "[29/100][0/11]\tLoss_D: 0.0009\tLoss_G: 8.2788\tD(x): 0.9999\tD(G(z)): 0.0009 / 0.0003\n",
      "[30/100][0/11]\tLoss_D: 0.0012\tLoss_G: 8.2145\tD(x): 0.9999\tD(G(z)): 0.0011 / 0.0003\n",
      "[31/100][0/11]\tLoss_D: 0.0005\tLoss_G: 8.5397\tD(x): 0.9999\tD(G(z)): 0.0004 / 0.0002\n",
      "[32/100][0/11]\tLoss_D: 0.0004\tLoss_G: 8.8142\tD(x): 0.9999\tD(G(z)): 0.0003 / 0.0002\n",
      "[33/100][0/11]\tLoss_D: 0.0009\tLoss_G: 8.0735\tD(x): 1.0000\tD(G(z)): 0.0008 / 0.0003\n",
      "[34/100][0/11]\tLoss_D: 0.0006\tLoss_G: 8.5105\tD(x): 0.9999\tD(G(z)): 0.0005 / 0.0002\n",
      "[35/100][0/11]\tLoss_D: 0.0006\tLoss_G: 8.3486\tD(x): 0.9999\tD(G(z)): 0.0006 / 0.0003\n",
      "[36/100][0/11]\tLoss_D: 0.0009\tLoss_G: 8.1304\tD(x): 1.0000\tD(G(z)): 0.0009 / 0.0003\n",
      "[37/100][0/11]\tLoss_D: 0.0005\tLoss_G: 8.4494\tD(x): 1.0000\tD(G(z)): 0.0005 / 0.0002\n",
      "[38/100][0/11]\tLoss_D: 0.0006\tLoss_G: 8.5521\tD(x): 0.9999\tD(G(z)): 0.0005 / 0.0002\n",
      "[39/100][0/11]\tLoss_D: 0.0009\tLoss_G: 8.2341\tD(x): 0.9999\tD(G(z)): 0.0008 / 0.0003\n",
      "[40/100][0/11]\tLoss_D: 0.0011\tLoss_G: 8.2361\tD(x): 0.9999\tD(G(z)): 0.0010 / 0.0003\n",
      "[41/100][0/11]\tLoss_D: 0.0003\tLoss_G: 9.0599\tD(x): 0.9999\tD(G(z)): 0.0002 / 0.0001\n",
      "[42/100][0/11]\tLoss_D: 0.0009\tLoss_G: 8.5231\tD(x): 0.9999\tD(G(z)): 0.0008 / 0.0002\n",
      "[43/100][0/11]\tLoss_D: 0.0004\tLoss_G: 8.7623\tD(x): 0.9999\tD(G(z)): 0.0003 / 0.0002\n",
      "[44/100][0/11]\tLoss_D: 0.0006\tLoss_G: 8.5448\tD(x): 1.0000\tD(G(z)): 0.0005 / 0.0002\n",
      "[45/100][0/11]\tLoss_D: 0.0004\tLoss_G: 8.6569\tD(x): 1.0000\tD(G(z)): 0.0004 / 0.0002\n",
      "[46/100][0/11]\tLoss_D: 0.0007\tLoss_G: 8.4235\tD(x): 0.9999\tD(G(z)): 0.0006 / 0.0002\n",
      "[47/100][0/11]\tLoss_D: 0.0004\tLoss_G: 8.7029\tD(x): 1.0000\tD(G(z)): 0.0004 / 0.0002\n",
      "[48/100][0/11]\tLoss_D: 0.0005\tLoss_G: 8.6087\tD(x): 1.0000\tD(G(z)): 0.0004 / 0.0002\n",
      "[49/100][0/11]\tLoss_D: 0.0004\tLoss_G: 9.0494\tD(x): 0.9998\tD(G(z)): 0.0003 / 0.0001\n",
      "[50/100][0/11]\tLoss_D: 0.0004\tLoss_G: 9.0708\tD(x): 0.9998\tD(G(z)): 0.0002 / 0.0001\n",
      "[51/100][0/11]\tLoss_D: 0.0003\tLoss_G: 8.7421\tD(x): 0.9999\tD(G(z)): 0.0003 / 0.0002\n",
      "[52/100][0/11]\tLoss_D: 0.0007\tLoss_G: 8.5359\tD(x): 1.0000\tD(G(z)): 0.0006 / 0.0002\n",
      "[53/100][0/11]\tLoss_D: 0.0003\tLoss_G: 9.1318\tD(x): 0.9999\tD(G(z)): 0.0002 / 0.0001\n",
      "[54/100][0/11]\tLoss_D: 0.0003\tLoss_G: 9.0091\tD(x): 0.9999\tD(G(z)): 0.0002 / 0.0001\n",
      "[55/100][0/11]\tLoss_D: 0.0004\tLoss_G: 8.7424\tD(x): 0.9999\tD(G(z)): 0.0003 / 0.0002\n",
      "[56/100][0/11]\tLoss_D: 0.0006\tLoss_G: 8.4770\tD(x): 0.9999\tD(G(z)): 0.0005 / 0.0002\n",
      "[57/100][0/11]\tLoss_D: 0.0003\tLoss_G: 8.8033\tD(x): 1.0000\tD(G(z)): 0.0003 / 0.0002\n",
      "[58/100][0/11]\tLoss_D: 0.0005\tLoss_G: 8.6671\tD(x): 0.9999\tD(G(z)): 0.0003 / 0.0002\n",
      "[59/100][0/11]\tLoss_D: 0.0003\tLoss_G: 9.0001\tD(x): 0.9999\tD(G(z)): 0.0002 / 0.0001\n",
      "[60/100][0/11]\tLoss_D: 0.0004\tLoss_G: 8.8272\tD(x): 0.9999\tD(G(z)): 0.0003 / 0.0002\n",
      "[61/100][0/11]\tLoss_D: 0.0003\tLoss_G: 9.1099\tD(x): 0.9999\tD(G(z)): 0.0002 / 0.0001\n",
      "[62/100][0/11]\tLoss_D: 0.0007\tLoss_G: 8.5954\tD(x): 0.9997\tD(G(z)): 0.0004 / 0.0002\n",
      "[63/100][0/11]\tLoss_D: 0.0004\tLoss_G: 9.4475\tD(x): 0.9997\tD(G(z)): 0.0001 / 0.0001\n",
      "[64/100][0/11]\tLoss_D: 0.0003\tLoss_G: 9.0642\tD(x): 0.9999\tD(G(z)): 0.0002 / 0.0001\n",
      "[65/100][0/11]\tLoss_D: 0.0003\tLoss_G: 9.2260\tD(x): 0.9999\tD(G(z)): 0.0002 / 0.0001\n",
      "[66/100][0/11]\tLoss_D: 0.0013\tLoss_G: 8.4905\tD(x): 1.0000\tD(G(z)): 0.0012 / 0.0002\n",
      "[67/100][0/11]\tLoss_D: 0.0006\tLoss_G: 8.9483\tD(x): 0.9999\tD(G(z)): 0.0004 / 0.0001\n",
      "[68/100][0/11]\tLoss_D: 0.0009\tLoss_G: 8.9487\tD(x): 1.0000\tD(G(z)): 0.0009 / 0.0001\n",
      "[69/100][0/11]\tLoss_D: 0.0005\tLoss_G: 10.7565\tD(x): 0.9996\tD(G(z)): 0.0002 / 0.0000\n",
      "[70/100][0/11]\tLoss_D: 100.0004\tLoss_G: 0.0000\tD(x): 0.9996\tD(G(z)): 1.0000 / 1.0000\n"
     ]
    }
   ],
   "source": [
    "# custom weights initialization called on netG and netD\n",
    "def weights_init(m):\n",
    "    classname = m.__class__.__name__\n",
    "    if classname.find('Conv') != -1:\n",
    "        nn.init.normal_(m.weight.data, 0.0, 0.02)\n",
    "    elif classname.find('BatchNorm') != -1:\n",
    "        nn.init.normal_(m.weight.data, 1.0, 0.02)\n",
    "        nn.init.constant_(m.bias.data, 0)\n",
    "\n",
    "# Generator Code\n",
    "\n",
    "class Generator(nn.Module):\n",
    "    def __init__(self, ngpu):\n",
    "        super(Generator, self).__init__()\n",
    "        self.ngpu = ngpu\n",
    "        self.main = nn.Sequential(\n",
    "            # input is Z, going into a convolution\n",
    "            nn.ConvTranspose2d( nz, ngf * 8, 4, 1, 0, bias=False),\n",
    "            nn.BatchNorm2d(ngf * 8),\n",
    "            nn.ReLU(True),\n",
    "            # state size. (ngf*8) x 4 x 4\n",
    "            nn.ConvTranspose2d(ngf * 8, ngf * 4, 4, 2, 1, bias=False),\n",
    "            nn.BatchNorm2d(ngf * 4),\n",
    "            nn.ReLU(True),\n",
    "            # state size. (ngf*4) x 8 x 8\n",
    "            nn.ConvTranspose2d( ngf * 4, ngf * 2, 4, 2, 1, bias=False),\n",
    "            nn.BatchNorm2d(ngf * 2),\n",
    "            nn.ReLU(True),\n",
    "            # state size. (ngf*2) x 16 x 16\n",
    "            nn.ConvTranspose2d( ngf * 2, ngf, 4, 2, 1, bias=False),\n",
    "            nn.BatchNorm2d(ngf),\n",
    "            nn.ReLU(True),\n",
    "            # state size. (ngf) x 32 x 32\n",
    "            nn.ConvTranspose2d( ngf, nc, 4, 2, 1, bias=False),\n",
    "            nn.Tanh()\n",
    "            # state size. (nc) x 64 x 64\n",
    "        )\n",
    "\n",
    "    def forward(self, input):\n",
    "        return self.main(input)\n",
    "\n",
    "# Create the generator\n",
    "netG = Generator(ngpu).to(device)\n",
    "\n",
    "# Handle multi-gpu if desired\n",
    "if (device.type == 'cuda') and (ngpu > 1):\n",
    "    netG = nn.DataParallel(netG, list(range(ngpu)))\n",
    "\n",
    "# Apply the weights_init function to randomly initialize all weights\n",
    "#  to mean=0, stdev=0.2.\n",
    "netG.apply(weights_init)\n",
    "\n",
    "class Discriminator(nn.Module):\n",
    "    def __init__(self, ngpu):\n",
    "        super(Discriminator, self).__init__()\n",
    "        self.ngpu = ngpu\n",
    "        self.main = nn.Sequential(\n",
    "            # input is (nc) x 64 x 64\n",
    "            nn.Conv2d(nc, ndf, 4, 2, 1, bias=False),\n",
    "            nn.LeakyReLU(0.2, inplace=True),\n",
    "            # state size. (ndf) x 32 x 32\n",
    "            nn.Conv2d(ndf, ndf * 2, 4, 2, 1, bias=False),\n",
    "            nn.BatchNorm2d(ndf * 2),\n",
    "            nn.LeakyReLU(0.2, inplace=True),\n",
    "            # state size. (ndf*2) x 16 x 16\n",
    "            nn.Conv2d(ndf * 2, ndf * 4, 4, 2, 1, bias=False),\n",
    "            nn.BatchNorm2d(ndf * 4),\n",
    "            nn.LeakyReLU(0.2, inplace=True),\n",
    "            # state size. (ndf*4) x 8 x 8\n",
    "            nn.Conv2d(ndf * 4, ndf * 8, 4, 2, 1, bias=False),\n",
    "            nn.BatchNorm2d(ndf * 8),\n",
    "            nn.LeakyReLU(0.2, inplace=True),\n",
    "            # state size. (ndf*8) x 4 x 4\n",
    "            nn.Conv2d(ndf * 8, 1, 4, 1, 0, bias=False),\n",
    "            nn.Sigmoid()\n",
    "        )\n",
    "\n",
    "    def forward(self, input):\n",
    "        return self.main(input)\n",
    "\n",
    "# Create the Discriminator\n",
    "netD = Discriminator(ngpu).to(device)\n",
    "\n",
    "# Handle multi-gpu if desired\n",
    "if (device.type == 'cuda') and (ngpu > 1):\n",
    "    netD = nn.DataParallel(netD, list(range(ngpu)))\n",
    "\n",
    "# Apply the weights_init function to randomly initialize all weights\n",
    "#  to mean=0, stdev=0.2.\n",
    "netD.apply(weights_init) \n",
    "\n",
    "# Initialize BCELoss function\n",
    "criterion = nn.BCELoss()\n",
    "#criterion = nn.HingeEmbeddingLoss(margin=10.0)\n",
    "\n",
    "# Create batch of latent vectors that we will use to visualize\n",
    "#  the progression of the generator\n",
    "fixed_noise = torch.randn(64, nz, 1, 1, device=device)\n",
    "\n",
    "# Establish convention for real and fake labels during training\n",
    "real_label = 1.\n",
    "fake_label = 0.\n",
    "\n",
    "# Setup Adam optimizers for both G and D\n",
    "optimizerD = optim.Adam(netD.parameters(), lr=lr, betas=(beta1, 0.999))\n",
    "optimizerG = optim.Adam(netG.parameters(), lr=lr, betas=(beta1, 0.999))   \n",
    "\n",
    "# Training Loop\n",
    "\n",
    "# Lists to keep track of progress\n",
    "img_list = []\n",
    "G_losses = []\n",
    "D_losses = []\n",
    "iters = 0\n",
    "\n",
    "print(\"Starting Training Loop...\")\n",
    "# For each epoch\n",
    "for epoch in range(num_epochs):\n",
    "    # For each batch in the dataloader\n",
    "    for i, data in enumerate(dataloader, 0):\n",
    "\n",
    "        ############################\n",
    "        # (1) Update D network: maximize log(D(x)) + log(1 - D(G(z)))\n",
    "        ###########################\n",
    "        ## Train with all-real batch\n",
    "        netD.zero_grad()\n",
    "        # Format batch\n",
    "        real_cpu = data[0].to(device)\n",
    "        b_size = real_cpu.size(0)\n",
    "        label = torch.full((b_size,), real_label, dtype=torch.float, device=device)\n",
    "        # Forward pass real batch through D\n",
    "        output = netD(real_cpu).view(-1)\n",
    "        # Calculate loss on all-real batch\n",
    "        errD_real = criterion(output, label)\n",
    "        # Calculate gradients for D in backward pass\n",
    "        errD_real.backward()\n",
    "        D_x = output.mean().item()\n",
    "\n",
    "        ## Train with all-fake batch\n",
    "        # Generate batch of latent vectors\n",
    "        noise = torch.randn(b_size, nz, 1, 1, device=device)\n",
    "        # Generate fake image batch with G\n",
    "        fake = netG(noise)\n",
    "        label.fill_(fake_label)\n",
    "        # Classify all fake batch with D\n",
    "        output = netD(fake.detach()).view(-1)\n",
    "        # Calculate D's loss on the all-fake batch\n",
    "        errD_fake = criterion(output, label)\n",
    "        # Calculate the gradients for this batch, accumulated (summed) with previous gradients\n",
    "        errD_fake.backward()\n",
    "        D_G_z1 = output.mean().item()\n",
    "        # Compute error of D as sum over the fake and the real batches\n",
    "        errD = errD_real + errD_fake\n",
    "        # Update D\n",
    "        optimizerD.step()\n",
    "\n",
    "        ############################\n",
    "        # (2) Update G network: maximize log(D(G(z)))\n",
    "        ###########################\n",
    "        netG.zero_grad()\n",
    "        label.fill_(real_label)  # fake labels are real for generator cost\n",
    "        # Since we just updated D, perform another forward pass of all-fake batch through D\n",
    "        output = netD(fake).view(-1)\n",
    "        # Calculate G's loss based on this output\n",
    "        errG = criterion(output, label)\n",
    "        # Calculate gradients for G\n",
    "        errG.backward()\n",
    "        D_G_z2 = output.mean().item()\n",
    "        # Update G\n",
    "        optimizerG.step()\n",
    "\n",
    "        # Output training stats\n",
    "        if i % 50 == 0:\n",
    "            print('[%d/%d][%d/%d]\\tLoss_D: %.4f\\tLoss_G: %.4f\\tD(x): %.4f\\tD(G(z)): %.4f / %.4f'\n",
    "                  % (epoch, num_epochs, i, len(dataloader),\n",
    "                     errD.item(), errG.item(), D_x, D_G_z1, D_G_z2))\n",
    "\n",
    "        # Save Losses for plotting later\n",
    "        G_losses.append(errG.item())\n",
    "        D_losses.append(errD.item())\n",
    "\n",
    "        # Check how the generator is doing by saving G's output on fixed_noise\n",
    "        if (iters % 500 == 0) or ((epoch == num_epochs-1) and (i == len(dataloader)-1)):\n",
    "            with torch.no_grad():\n",
    "                fake = netG(fixed_noise).detach().cpu()\n",
    "            img_list.append(vutils.make_grid(fake, padding=2, normalize=True))\n",
    "\n",
    "        iters += 1"
   ]
  },
  {
   "cell_type": "code",
   "execution_count": null,
   "id": "fe84b6af-ab5b-40e6-8d87-e8c714a522f1",
   "metadata": {},
   "outputs": [],
   "source": []
  }
 ],
 "metadata": {
  "kernelspec": {
   "display_name": "Python 3 (ipykernel)",
   "language": "python",
   "name": "python3"
  },
  "language_info": {
   "codemirror_mode": {
    "name": "ipython",
    "version": 3
   },
   "file_extension": ".py",
   "mimetype": "text/x-python",
   "name": "python",
   "nbconvert_exporter": "python",
   "pygments_lexer": "ipython3",
   "version": "3.8.5"
  }
 },
 "nbformat": 4,
 "nbformat_minor": 5
}
