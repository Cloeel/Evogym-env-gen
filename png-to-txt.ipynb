{
 "cells": [
  {
   "cell_type": "code",
   "execution_count": 46,
   "id": "f7e28d51",
   "metadata": {},
   "outputs": [],
   "source": [
    "from PIL import Image\n",
    "import json\n",
    "import os"
   ]
  },
  {
   "cell_type": "code",
   "execution_count": 47,
   "id": "92c92f7f",
   "metadata": {},
   "outputs": [],
   "source": [
    "# 画像データからテキストのリストに変換する関数\n",
    "def image_to_text_list(image_path):\n",
    "    image = Image.open(image_path)\n",
    "    width, height = image.size\n",
    "\n",
    "    text_list = []\n",
    "    for y in range(height):\n",
    "        row_data = []\n",
    "        for x in range(width):\n",
    "            pixel_value = image.getpixel((x, y))\n",
    "            if pixel_value == (255,255,255):\n",
    "                pixel = \"H\"\n",
    "            elif pixel_value == (128,128,128):\n",
    "                pixel = \"S\"\n",
    "            else:\n",
    "                pixel = \"-\"\n",
    "            row_data.append(pixel)\n",
    "            \n",
    "        text_list.append(\"\".join(row_data))\n",
    "\n",
    "    return text_list"
   ]
  },
  {
   "cell_type": "code",
   "execution_count": 48,
   "id": "413fd76e",
   "metadata": {},
   "outputs": [],
   "source": [
    "# 画像を読み込む\n",
    "image_path = \"./col_images/\"\n",
    "img_path = os.listdir(image_path)"
   ]
  },
  {
   "cell_type": "code",
   "execution_count": 50,
   "id": "5e53c046",
   "metadata": {},
   "outputs": [],
   "source": [
    "# 画像データをテキストのリストに変換\n",
    "for i,file_name in enumerate(img_path):\n",
    "    if file_name.lower().endswith(('.jpg', '.jpeg', '.png', '.gif')):\n",
    "        image = os.path.join(image_path, file_name)\n",
    "        text_list = image_to_text_list(image)\n",
    "        with open(\"./dataset/{}.json\".format(i), \"w\") as json_file:\n",
    "            json.dump(text_list,json_file)"
   ]
  },
  {
   "cell_type": "code",
   "execution_count": 40,
   "id": "e42fc92c",
   "metadata": {},
   "outputs": [
    {
     "data": {
      "text/plain": [
       "['----------------------------------------------------------------------',\n",
       " '----------------------------------------------------------------------',\n",
       " '----------------------------------------------------------------------',\n",
       " '----------------------------------------------------------------------',\n",
       " '----------------------------------------------------------------------',\n",
       " '----------------------------------------------------------------------',\n",
       " '---SS-------S--SSSSSSS--SSSSSSSSSSSSSSSSSSSSSSSSSHSSSHSSSSHSSSSSSSSSS-',\n",
       " '--SHHHHHHHHHHHHHHHHHHHHHHHHHHHHHHHHHHHHHHHHHHHHHHHHHHHHHHHHHHHHHSSSSSS',\n",
       " '--SHHHHHHHHHHHHHHHHSHSSSSSSSSSSSSSSSSSSSSSSSSSSSSSSSSSSSSSSS---S-SS---',\n",
       " '----------------------------------------------------------------------',\n",
       " '----------------------------------------------------------------------',\n",
       " '----------------------------------------------------------------------',\n",
       " '----------------------------------------------------------------------',\n",
       " '----------------------------------------------------------------------',\n",
       " '----------------------------------------------------------------------',\n",
       " '----------------------------------------------------------------------',\n",
       " '----------------------------------------------------------------------',\n",
       " '----------------------------------------------------------------------',\n",
       " '----------------------------------------------------------------------']"
      ]
     },
     "execution_count": 40,
     "metadata": {},
     "output_type": "execute_result"
    }
   ],
   "source": [
    "text_list"
   ]
  },
  {
   "cell_type": "code",
   "execution_count": null,
   "id": "20c15034",
   "metadata": {},
   "outputs": [],
   "source": [
    "file_name = \"./dataset/\"\n",
    "image_path = \"./col_images/\"\n",
    "file = os.listdir(image_path)\n",
    "for i,f in enumerate(file):\n",
    "    text_list = image_to_text_list(f)\n",
    "    with open("
   ]
  }
 ],
 "metadata": {
  "kernelspec": {
   "display_name": "Python 3 (ipykernel)",
   "language": "python",
   "name": "python3"
  },
  "language_info": {
   "codemirror_mode": {
    "name": "ipython",
    "version": 3
   },
   "file_extension": ".py",
   "mimetype": "text/x-python",
   "name": "python",
   "nbconvert_exporter": "python",
   "pygments_lexer": "ipython3",
   "version": "3.8.5"
  }
 },
 "nbformat": 4,
 "nbformat_minor": 5
}
