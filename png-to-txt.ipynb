{
 "cells": [
  {
   "cell_type": "code",
   "execution_count": 1,
   "id": "f7e28d51",
   "metadata": {},
   "outputs": [],
   "source": [
    "from PIL import Image\n",
    "import json"
   ]
  },
  {
   "cell_type": "code",
   "execution_count": 13,
   "id": "92c92f7f",
   "metadata": {},
   "outputs": [],
   "source": [
    "# 画像データからテキストのリストに変換する関数\n",
    "def image_to_text_list(image_path):\n",
    "    image = Image.open(image_path)\n",
    "    width, height = image.size\n",
    "\n",
    "    text_list = []\n",
    "    for y in range(height):\n",
    "        row_data = []\n",
    "        for x in range(width):\n",
    "            pixel_value = image.getpixel((x, y))\n",
    "            if pixel_value == (255,255,255):\n",
    "                pixel = \"H\"\n",
    "            elif pixel_value == (255,0,0):\n",
    "                pixel = \"S\"\n",
    "            else:\n",
    "                pixel = \"-\"\n",
    "            row_data.append(pixel)\n",
    "            \n",
    "        text_list.append(\"\".join(row_data))\n",
    "\n",
    "    return text_list"
   ]
  },
  {
   "cell_type": "code",
   "execution_count": 14,
   "id": "413fd76e",
   "metadata": {},
   "outputs": [],
   "source": [
    "# 画像を読み込む\n",
    "image_path = \"./Original/class1/grid_image.png\""
   ]
  },
  {
   "cell_type": "code",
   "execution_count": 15,
   "id": "5e53c046",
   "metadata": {},
   "outputs": [],
   "source": [
    "# 画像データをテキストのリストに変換\n",
    "text_list = image_to_text_list(image_path)"
   ]
  },
  {
   "cell_type": "code",
   "execution_count": 16,
   "id": "e42fc92c",
   "metadata": {},
   "outputs": [
    {
     "data": {
      "text/plain": [
       "['----------------------------------------------------------------------',\n",
       " '----------------------------------------------------------------------',\n",
       " '----------------------------------------------------------------------',\n",
       " '----------------------------------------------------------------------',\n",
       " '----------------------------------------------------------------------',\n",
       " '--------------------H-------------------------------------------------',\n",
       " '--------------------H-------------------------------------------------',\n",
       " '--------------------H-------------------------------------------------',\n",
       " '--------------------H-------------------------------------------------',\n",
       " '--------------------H------------------------------------------------H',\n",
       " '--------------------H------------------------------------------------H',\n",
       " '--------------------HH------------HHHHHHHHHHHHHHHHHHHHHHHHHHHHHHHHHHHH',\n",
       " '---------------------SSSSSSSSSSSSSS----SSSSSSSSSSSSSSS----HHH--------H',\n",
       " '-----------------------SSSSSSSSSS---------SSSSSSSSSS-------HH--------H',\n",
       " '-------------------------SSSSSS----------------------------H---------H',\n",
       " '---------------------------------------------------------------------H',\n",
       " '---------------------------------------------------------------------H',\n",
       " '----------------------------------------------SSSSS------------------H',\n",
       " 'HHHHHHHHHHHHHHHHHHHHHHHHHHHHHHHHHHHHHHHHHHHHHHHHHHHHHHHHHHHHHHHHHHHHHH']"
      ]
     },
     "execution_count": 16,
     "metadata": {},
     "output_type": "execute_result"
    }
   ],
   "source": [
    "text_list"
   ]
  },
  {
   "cell_type": "code",
   "execution_count": null,
   "id": "20c15034",
   "metadata": {},
   "outputs": [],
   "source": []
  }
 ],
 "metadata": {
  "kernelspec": {
   "display_name": "Python 3 (ipykernel)",
   "language": "python",
   "name": "python3"
  },
  "language_info": {
   "codemirror_mode": {
    "name": "ipython",
    "version": 3
   },
   "file_extension": ".py",
   "mimetype": "text/x-python",
   "name": "python",
   "nbconvert_exporter": "python",
   "pygments_lexer": "ipython3",
   "version": "3.8.5"
  }
 },
 "nbformat": 4,
 "nbformat_minor": 5
}
