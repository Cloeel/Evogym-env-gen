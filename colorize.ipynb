{
 "cells": [
  {
   "cell_type": "code",
   "execution_count": 1,
   "id": "833f9d1d",
   "metadata": {},
   "outputs": [],
   "source": [
    "from PIL import Image\n",
    "import os"
   ]
  },
  {
   "cell_type": "code",
   "execution_count": 3,
   "id": "f1ce42c1",
   "metadata": {},
   "outputs": [],
   "source": [
    "def convert_to_black_white_red(image_path, threshold=128):\n",
    "    \"\"\"\n",
    "    画像のRGB値を黒、白、赤のどれかに書き直す関数\n",
    "\n",
    "    :param image_path: 画像ファイルのパス\n",
    "    :param threshold: RGB値を判定する閾値（デフォルト値: 128）\n",
    "    :return: 書き直された新しい画像\n",
    "    \"\"\"\n",
    "    # 画像をRGB形式で読み込む\n",
    "    img = Image.open(image_path).convert(\"RGB\")\n",
    "    pixels = img.load()\n",
    "    width, height = img.size\n",
    "\n",
    "    # 画像の各ピクセルを走査し、RGB値を黒、白、赤のどれかに変換する\n",
    "    for y in range(height):\n",
    "        for x in range(width):\n",
    "            r, g, b = pixels[x, y]\n",
    "\n",
    "            # 各色の閾値に基づいてRGB値を変換する\n",
    "            if r < threshold and g < threshold and b < threshold:\n",
    "                pixels[x, y] = (0, 0, 0)  # 黒に変換\n",
    "            elif r >= threshold and g >= threshold and b >= threshold:\n",
    "                pixels[x, y] = (255, 255, 255)  # 白に変換\n",
    "            else:\n",
    "                pixels[x, y] = (128, 128, 128)  # 灰に変換\n",
    "\n",
    "    return img"
   ]
  },
  {
   "cell_type": "code",
   "execution_count": 4,
   "id": "bbebaad3",
   "metadata": {},
   "outputs": [
    {
     "ename": "FileNotFoundError",
     "evalue": "[Errno 2] No such file or directory: './generated/raw/'",
     "output_type": "error",
     "traceback": [
      "\u001b[0;31m---------------------------------------------------------------------------\u001b[0m",
      "\u001b[0;31mFileNotFoundError\u001b[0m                         Traceback (most recent call last)",
      "Cell \u001b[0;32mIn[4], line 7\u001b[0m\n\u001b[1;32m      3\u001b[0m input_image_path \u001b[38;5;241m=\u001b[39m \u001b[38;5;124m\"\u001b[39m\u001b[38;5;124m./generated/raw/\u001b[39m\u001b[38;5;124m\"\u001b[39m\n\u001b[1;32m      5\u001b[0m directory_paht \u001b[38;5;241m=\u001b[39m \u001b[38;5;124m\"\u001b[39m\u001b[38;5;124m./generated/colorize/\u001b[39m\u001b[38;5;124m\"\u001b[39m\n\u001b[0;32m----> 7\u001b[0m files \u001b[38;5;241m=\u001b[39m \u001b[43mos\u001b[49m\u001b[38;5;241;43m.\u001b[39;49m\u001b[43mlistdir\u001b[49m\u001b[43m(\u001b[49m\u001b[43minput_image_path\u001b[49m\u001b[43m)\u001b[49m\n\u001b[1;32m      9\u001b[0m \u001b[38;5;28;01mfor\u001b[39;00m file_name \u001b[38;5;129;01min\u001b[39;00m files:\n\u001b[1;32m     10\u001b[0m     \u001b[38;5;28;01mif\u001b[39;00m file_name\u001b[38;5;241m.\u001b[39mlower()\u001b[38;5;241m.\u001b[39mendswith((\u001b[38;5;124m'\u001b[39m\u001b[38;5;124m.jpg\u001b[39m\u001b[38;5;124m'\u001b[39m, \u001b[38;5;124m'\u001b[39m\u001b[38;5;124m.jpeg\u001b[39m\u001b[38;5;124m'\u001b[39m, \u001b[38;5;124m'\u001b[39m\u001b[38;5;124m.png\u001b[39m\u001b[38;5;124m'\u001b[39m, \u001b[38;5;124m'\u001b[39m\u001b[38;5;124m.gif\u001b[39m\u001b[38;5;124m'\u001b[39m)):\n\u001b[1;32m     11\u001b[0m         \u001b[38;5;66;03m# 画像ファイルのパスを作成\u001b[39;00m\n",
      "\u001b[0;31mFileNotFoundError\u001b[0m: [Errno 2] No such file or directory: './generated/raw/'"
     ]
    }
   ],
   "source": [
    "if __name__ == \"__main__\":\n",
    "    # 入力画像のパスを指定\n",
    "    input_image_path = \"./generated/raw/\"\n",
    "    \n",
    "    directory_paht = \"./generated/colorize/\"\n",
    "    \n",
    "    files = os.listdir(input_image_path)\n",
    "    \n",
    "    for file_name in files:\n",
    "        if file_name.lower().endswith(('.jpg', '.jpeg', '.png', '.gif')):\n",
    "            # 画像ファイルのパスを作成\n",
    "            image_path = os.path.join(directory_path, file_name)\n",
    "\n",
    "            # 画像のRGB値を書き直す\n",
    "            output_image = convert_to_black_white_red(image_path)\n",
    "\n",
    "            # 書き直された画像を保存する\n",
    "            output_image_path = os.path.join(directory_path, \"processed_\" + file_name)\n",
    "            output_image.save(output_image_path)\n",
    "\n",
    "    print(\"画像のRGB値を書き直しました。\")"
   ]
  },
  {
   "cell_type": "code",
   "execution_count": null,
   "id": "0bdbca96",
   "metadata": {},
   "outputs": [],
   "source": []
  },
  {
   "cell_type": "code",
   "execution_count": null,
   "id": "f404f2ca",
   "metadata": {},
   "outputs": [],
   "source": []
  }
 ],
 "metadata": {
  "kernelspec": {
   "display_name": "Python 3 (ipykernel)",
   "language": "python",
   "name": "python3"
  },
  "language_info": {
   "codemirror_mode": {
    "name": "ipython",
    "version": 3
   },
   "file_extension": ".py",
   "mimetype": "text/x-python",
   "name": "python",
   "nbconvert_exporter": "python",
   "pygments_lexer": "ipython3",
   "version": "3.8.5"
  }
 },
 "nbformat": 4,
 "nbformat_minor": 5
}
