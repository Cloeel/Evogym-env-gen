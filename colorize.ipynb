{
 "cells": [
  {
   "cell_type": "code",
   "execution_count": 15,
   "id": "833f9d1d",
   "metadata": {},
   "outputs": [],
   "source": [
    "from PIL import Image\n",
    "import os"
   ]
  },
  {
   "cell_type": "code",
   "execution_count": 37,
   "id": "c27dfbcb-0207-41c9-8048-92d55f851bbe",
   "metadata": {},
   "outputs": [
    {
     "name": "stdout",
     "output_type": "stream",
     "text": [
      "['sub_image_63.png', 'sub_image_62.png', 'sub_image_60.png', 'sub_image_48.png', 'sub_image_49.png', 'sub_image_61.png', 'sub_image_59.png', '.DS_Store', 'sub_image_58.png', 'sub_image_6.png', 'sub_image_14.png', 'sub_image_28.png', 'sub_image_29.png', 'sub_image_15.png', 'sub_image_7.png', 'sub_image_5.png', 'sub_image_17.png', 'sub_image_16.png', 'sub_image_4.png', 'sub_image_0.png', 'sub_image_12.png', 'sub_image_13.png', 'sub_image_1.png', 'sub_image_3.png', 'sub_image_39.png', 'sub_image_11.png', 'sub_image_10.png', 'sub_image_38.png', 'sub_image_2.png', 'sub_image_21.png', 'sub_image_35.png', 'sub_image_34.png', 'sub_image_20.png', 'sub_image_36.png', 'sub_image_22.png', 'sub_image_23.png', 'sub_image_37.png', 'sub_image_9.png', 'sub_image_33.png', 'sub_image_27.png', 'sub_image_26.png', 'sub_image_32.png', 'sub_image_8.png', 'sub_image_18.png', 'sub_image_24.png', 'sub_image_30.png', 'sub_image_31.png', 'sub_image_25.png', 'sub_image_19.png', 'sub_image_42.png', 'sub_image_56.png', 'sub_image_57.png', 'sub_image_43.png', 'sub_image_55.png', 'sub_image_41.png', 'sub_image_40.png', 'sub_image_54.png', 'sub_image_50.png', 'sub_image_44.png', 'sub_image_45.png', 'sub_image_51.png', 'sub_image_47.png', 'sub_image_53.png', 'sub_image_52.png', 'sub_image_46.png']\n"
     ]
    }
   ],
   "source": [
    "#画像をリサイズ\n",
    "\n",
    "#画像サイズ\n",
    "new_width = 70\n",
    "new_height = 19\n",
    "\n",
    "#保存場所\n",
    "dir = \"./re_img/\"\n",
    "\n",
    "#リサイズする画像ファイル\n",
    "input_image_path = \"./images/\"\n",
    "files = os.listdir(input_image_path)\n",
    "for i,file_name in enumerate(files):\n",
    "    if file_name.lower().endswith(('.jpg', '.jpeg', '.png', '.gif')):\n",
    "        image = Image.open(input_image_path + file_name)\n",
    "        resized_image = image.resize((new_width,new_height))\n",
    "        resized_image.save(dir + \"{}.png\".format(i))"
   ]
  },
  {
   "cell_type": "code",
   "execution_count": 38,
   "id": "f1ce42c1",
   "metadata": {},
   "outputs": [],
   "source": [
    "def convert_to_black_white_red(image_path, threshold=80):\n",
    "    \"\"\"\n",
    "    画像のRGB値を黒、白、赤のどれかに書き直す関数\n",
    "\n",
    "    :param image_path: 画像ファイルのパス\n",
    "    :param threshold: RGB値を判定する閾値（デフォルト値: 128）\n",
    "    :return: 書き直された新しい画像\n",
    "    \"\"\"\n",
    "    # 画像をRGB形式で読み込む\n",
    "    img = Image.open(image_path).convert(\"RGB\")\n",
    "    pixels = img.load()\n",
    "    width, height = img.size\n",
    "\n",
    "    # 画像の各ピクセルを走査し、RGB値を黒、白、赤のどれかに変換する\n",
    "    for y in range(height):\n",
    "        for x in range(width):\n",
    "            r, g, b = pixels[x, y]\n",
    "\n",
    "            # 各色の閾値に基づいてRGB値を変換する\n",
    "            if r < threshold and g < threshold and b < threshold:\n",
    "                pixels[x, y] = (0, 0, 0)  # 黒に変換\n",
    "            elif r >= threshold+30 and g >= threshold+30 and b >= threshold+30:\n",
    "                pixels[x, y] = (255, 255, 255)  # 白に変換\n",
    "            else:\n",
    "                pixels[x, y] = (128, 128, 128)  # 灰に変換\n",
    "\n",
    "    return img"
   ]
  },
  {
   "cell_type": "code",
   "execution_count": 39,
   "id": "bbebaad3",
   "metadata": {},
   "outputs": [
    {
     "name": "stdout",
     "output_type": "stream",
     "text": [
      "画像のRGB値を書き直しました。\n"
     ]
    }
   ],
   "source": [
    "if __name__ == \"__main__\":\n",
    "    # 入力画像のパスを指定\n",
    "    input_image_path = \"./re_img/\"\n",
    "    \n",
    "    directory_path = \"./col_images/\"\n",
    "    \n",
    "    files = os.listdir(input_image_path)\n",
    "    \n",
    "    for file_name in files:\n",
    "        if file_name.lower().endswith(('.jpg', '.jpeg', '.png', '.gif')):\n",
    "            # 画像ファイルのパスを作成\n",
    "            image_path = os.path.join(input_image_path, file_name)\n",
    "\n",
    "            # 画像のRGB値を書き直す\n",
    "            output_image = convert_to_black_white_red(image_path)\n",
    "\n",
    "            # 書き直された画像を保存する\n",
    "            output_image_path = os.path.join(directory_path, \"processed_\" + file_name)\n",
    "            output_image.save(output_image_path)\n",
    "\n",
    "    print(\"画像のRGB値を書き直しました。\")"
   ]
  },
  {
   "cell_type": "code",
   "execution_count": null,
   "id": "0bdbca96",
   "metadata": {},
   "outputs": [],
   "source": []
  },
  {
   "cell_type": "code",
   "execution_count": null,
   "id": "f404f2ca",
   "metadata": {},
   "outputs": [],
   "source": []
  }
 ],
 "metadata": {
  "kernelspec": {
   "display_name": "Python 3 (ipykernel)",
   "language": "python",
   "name": "python3"
  },
  "language_info": {
   "codemirror_mode": {
    "name": "ipython",
    "version": 3
   },
   "file_extension": ".py",
   "mimetype": "text/x-python",
   "name": "python",
   "nbconvert_exporter": "python",
   "pygments_lexer": "ipython3",
   "version": "3.8.5"
  }
 },
 "nbformat": 4,
 "nbformat_minor": 5
}
