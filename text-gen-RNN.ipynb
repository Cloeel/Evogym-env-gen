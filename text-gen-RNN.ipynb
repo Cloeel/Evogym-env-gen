{
 "cells": [
  {
   "cell_type": "code",
   "execution_count": 1,
   "id": "a1c42236",
   "metadata": {},
   "outputs": [],
   "source": [
    "import torch\n",
    "import torch.nn as nn\n",
    "import torch.optim as optim\n",
    "from torch.utils.data import Dataset, DataLoader\n",
    "import json"
   ]
  },
  {
   "cell_type": "code",
   "execution_count": 2,
   "id": "49dfff60",
   "metadata": {},
   "outputs": [],
   "source": [
    "class TextDataset(Dataset):\n",
    "    def __init__(self, data, word_to_idx):\n",
    "        self.data = \"\".join(data)\n",
    "        self.word_to_idx = word_to_idx\n",
    "\n",
    "    def __len__(self):\n",
    "        return len(self.data)\n",
    "\n",
    "    def __getitem__(self, idx):\n",
    "        text = self.data[idx]\n",
    "        text_indices = [self.word_to_idx[word] for word in text]\n",
    "        return torch.tensor(text_indices)"
   ]
  },
  {
   "cell_type": "code",
   "execution_count": 3,
   "id": "abda71bd",
   "metadata": {},
   "outputs": [],
   "source": [
    "class RNN(nn.Module):\n",
    "    def __init__(self, input_size, hidden_size, output_size):\n",
    "        super(RNN, self).__init__()\n",
    "        self.hidden_size = hidden_size\n",
    "        self.embedding = nn.Embedding(input_size, hidden_size)\n",
    "        self.gru = nn.GRU(self.embedding.embedding_dim, hidden_size)\n",
    "        self.fc = nn.Linear(hidden_size, output_size)\n",
    "\n",
    "    def forward(self, input, hidden):\n",
    "        embedded = self.embedding(input).view(1, 1, -1)\n",
    "        output = embedded\n",
    "        output, hidden = self.gru(output, hidden)\n",
    "        output = self.fc(output.view(1, -1))\n",
    "        return output, hidden\n",
    "\n",
    "    def init_hidden(self):\n",
    "        return torch.zeros(1, 1, self.hidden_size)"
   ]
  },
  {
   "cell_type": "code",
   "execution_count": 4,
   "id": "9416ac8f",
   "metadata": {},
   "outputs": [
    {
     "ename": "NameError",
     "evalue": "name 'data' is not defined",
     "output_type": "error",
     "traceback": [
      "\u001b[0;31m---------------------------------------------------------------------------\u001b[0m",
      "\u001b[0;31mNameError\u001b[0m                                 Traceback (most recent call last)",
      "Cell \u001b[0;32mIn[4], line 6\u001b[0m\n\u001b[1;32m      4\u001b[0m         json_data \u001b[38;5;241m=\u001b[39m json\u001b[38;5;241m.\u001b[39mload(f)\n\u001b[1;32m      5\u001b[0m         json_data1 \u001b[38;5;241m=\u001b[39m json_data[\u001b[38;5;241m4\u001b[39m:]\n\u001b[0;32m----> 6\u001b[0m     \u001b[43mdata\u001b[49m\u001b[38;5;241m.\u001b[39mextend(json_data1)\n\u001b[1;32m      8\u001b[0m words \u001b[38;5;241m=\u001b[39m [word \u001b[38;5;28;01mfor\u001b[39;00m text \u001b[38;5;129;01min\u001b[39;00m data \u001b[38;5;28;01mfor\u001b[39;00m word \u001b[38;5;129;01min\u001b[39;00m text]\n\u001b[1;32m      9\u001b[0m vocab \u001b[38;5;241m=\u001b[39m \u001b[38;5;28mlist\u001b[39m(\u001b[38;5;28mset\u001b[39m(words))\n",
      "\u001b[0;31mNameError\u001b[0m: name 'data' is not defined"
     ]
    }
   ],
   "source": [
    "json_files = ['./json-list-data/CaveCrawler-v0.json','./json-list-data/Balancer-v0.json','./json-list-data/simple_walker_env.json']\n",
    "for json_file in json_files:\n",
    "    with open(json_file, 'r') as f:\n",
    "        json_data = json.load(f)\n",
    "        json_data1 = json_data[4:]\n",
    "    data.extend(json_data1)\n",
    "\n",
    "words = [word for text in data for word in text]\n",
    "vocab = list(set(words))\n",
    "\n",
    "word_to_idx = {word: i for i, word in enumerate(vocab)}\n",
    "idx_to_word = {i: word for i, word in enumerate(vocab)}\n",
    "\n",
    "# データセットの作成\n",
    "dataset = TextDataset(data, word_to_idx)\n",
    "dataloader = DataLoader(dataset, batch_size=1, shuffle=True)"
   ]
  },
  {
   "cell_type": "code",
   "execution_count": 5,
   "id": "dd469f12",
   "metadata": {},
   "outputs": [
    {
     "ename": "NameError",
     "evalue": "name 'vocab' is not defined",
     "output_type": "error",
     "traceback": [
      "\u001b[0;31m---------------------------------------------------------------------------\u001b[0m",
      "\u001b[0;31mNameError\u001b[0m                                 Traceback (most recent call last)",
      "Cell \u001b[0;32mIn[5], line 2\u001b[0m\n\u001b[1;32m      1\u001b[0m \u001b[38;5;66;03m# ハイパーパラメータの設定\u001b[39;00m\n\u001b[0;32m----> 2\u001b[0m input_size \u001b[38;5;241m=\u001b[39m \u001b[38;5;28mlen\u001b[39m(\u001b[43mvocab\u001b[49m)  \u001b[38;5;66;03m# 入力のボキャブラリーサイズ\u001b[39;00m\n\u001b[1;32m      3\u001b[0m hidden_size \u001b[38;5;241m=\u001b[39m \u001b[38;5;241m128\u001b[39m  \u001b[38;5;66;03m# 隠れ層のサイズ\u001b[39;00m\n\u001b[1;32m      4\u001b[0m output_size \u001b[38;5;241m=\u001b[39m \u001b[38;5;28mlen\u001b[39m(dataset\u001b[38;5;241m.\u001b[39mdata)  \u001b[38;5;66;03m# 出力のボキャブラリーサイズ\u001b[39;00m\n",
      "\u001b[0;31mNameError\u001b[0m: name 'vocab' is not defined"
     ]
    }
   ],
   "source": [
    "# ハイパーパラメータの設定\n",
    "input_size = len(vocab)  # 入力のボキャブラリーサイズ\n",
    "hidden_size = 128  # 隠れ層のサイズ\n",
    "output_size = len(dataset.data)  # 出力のボキャブラリーサイズ\n",
    "num_epochs = 2\n",
    "learning_rate = 0.1\n",
    "\n",
    "# モデルの定義\n",
    "model = RNN(input_size, hidden_size, output_size)\n",
    "\n",
    "# 損失関数と最適化手法の定義\n",
    "criterion = nn.CrossEntropyLoss()\n",
    "optimizer = optim.Adam(model.parameters(), lr=learning_rate)\n",
    "losses = []\n",
    "predictions = []\n"
   ]
  },
  {
   "cell_type": "code",
   "execution_count": 86,
   "id": "82a85756",
   "metadata": {},
   "outputs": [
    {
     "name": "stdout",
     "output_type": "stream",
     "text": [
      "Epoch: 1, Loss: 136.4831\n",
      "Epoch: 2, Loss: 0.0000\n"
     ]
    }
   ],
   "source": [
    "for epoch in range(num_epochs):\n",
    "    epoch_loss = 0\n",
    "\n",
    "    for batch_data in dataloader:\n",
    "        optimizer.zero_grad()\n",
    "        hidden = model.init_hidden()\n",
    "        loss = 0\n",
    "\n",
    "        for word in batch_data[0]:\n",
    "            output, hidden = model(word, hidden)\n",
    "            target = word.view(-1)\n",
    "            loss += criterion(output, target)\n",
    "\n",
    "        loss.backward()\n",
    "        optimizer.step()\n",
    "\n",
    "        epoch_loss += loss.item()\n",
    "\n",
    "    # エポックごとの損失値を記録\n",
    "    losses.append(epoch_loss)\n",
    "\n",
    "    # 予測結果を記録\n",
    "    hidden = model.init_hidden()\n",
    "    input = torch.tensor([[word_to_idx['-']]])\n",
    "    predicted = 'H'\n",
    "\n",
    "    for i in range(100):\n",
    "        output, hidden = model(input, hidden)\n",
    "        _, predicted_word = torch.max(output.data, 1)\n",
    "        predicted += idx_to_word[predicted_word.item()]\n",
    "        input = predicted_word\n",
    "\n",
    "    predictions.append(predicted)\n",
    "\n",
    "    print('Epoch: {}, Loss: {:.4f}'.format(epoch + 1, epoch_loss))"
   ]
  },
  {
   "cell_type": "code",
   "execution_count": 96,
   "id": "1ee39d48",
   "metadata": {},
   "outputs": [
    {
     "name": "stdout",
     "output_type": "stream",
     "text": [
      "H----------------------------------------------------------------------------------------------------------------------------------------------------------------------------------------------------------------------------------------------------------------------------------------------------------------------------------------------------------------------------------------------------------------------------------------------------------------------------------------------------------------------------------------------------------------------------------------------------------------------------------------------------------------------------------------------------------------------------------------------------------------------------------------------------------------------------------------------------------------------------------------------------------------------------------------------------------------------------------------------------------------------------------------\n"
     ]
    }
   ],
   "source": [
    "# 文字数を100文字とした場合の予測\n",
    "hidden = model.init_hidden()\n",
    "input = torch.tensor([2])\n",
    "predicted = 'H'\n",
    "for i in range(1000):\n",
    "    output, hidden = model(input, hidden)\n",
    "    _, predicted_word = torch.max(output.data, 1)\n",
    "    predicted += idx_to_word[predicted_word.item()]\n",
    "    input = torch.tensor([[word_to_idx[idx_to_word[predicted_word.item()]]]])\n",
    "print(predicted)\n"
   ]
  },
  {
   "cell_type": "code",
   "execution_count": null,
   "id": "88566ece",
   "metadata": {},
   "outputs": [],
   "source": []
  },
  {
   "cell_type": "code",
   "execution_count": null,
   "id": "a6a8bff7",
   "metadata": {},
   "outputs": [],
   "source": []
  }
 ],
 "metadata": {
  "kernelspec": {
   "display_name": "Python 3 (ipykernel)",
   "language": "python",
   "name": "python3"
  },
  "language_info": {
   "codemirror_mode": {
    "name": "ipython",
    "version": 3
   },
   "file_extension": ".py",
   "mimetype": "text/x-python",
   "name": "python",
   "nbconvert_exporter": "python",
   "pygments_lexer": "ipython3",
   "version": "3.8.5"
  }
 },
 "nbformat": 4,
 "nbformat_minor": 5
}
